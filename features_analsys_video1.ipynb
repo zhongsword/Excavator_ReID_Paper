{
 "cells": [
  {
   "cell_type": "markdown",
   "metadata": {},
   "source": [
    "### 导入数据"
   ]
  },
  {
   "cell_type": "code",
   "execution_count": 59,
   "metadata": {
    "ExecuteTime": {
     "end_time": "2024-04-28T13:46:03.035238Z",
     "start_time": "2024-04-28T13:46:02.709359Z"
    }
   },
   "source": [
    "from utils.dataLoader import Datasets\n",
    "import numpy\n",
    "import pandas\n",
    "\n",
    "datasets = Datasets(\"/home/zlj/Excavator_ReID/Trained_ReID_features/1716801040.6510997_bank.npy\")\n",
    "bank_x = datasets.data\n",
    "bank_y = datasets.target\n",
    "bank_y = [f'{x}'+'bank' for x in bank_y]\n",
    "bank_y = numpy.array(bank_y)\n",
    "bank_label = datasets.classes\n",
    "bank_label = [f'{x}'+'bank' for x in bank_label]\n",
    "bank_label = numpy.array(bank_label)\n",
    "bank_label_df = pandas.DataFrame(bank_label)\n",
    "# print(len(bank_y))\n",
    "bank_x_df = pandas.DataFrame(bank_x)\n",
    "bank_y_df = pandas.DataFrame(bank_y)\n",
    "data_show = pandas.concat([bank_y_df, bank_x_df], axis=1)\n",
    "data_show"
   ],
   "outputs": []
  },
  {
   "cell_type": "code",
   "execution_count": 60,
   "metadata": {},
   "source": [
    "bank_label_df.T"
   ],
   "outputs": []
  },
  {
   "cell_type": "code",
   "execution_count": 61,
   "metadata": {},
   "source": [
    "from utils.dataLoader import FullDatasets\n",
    "import numpy\n",
    "import pandas\n",
    "\n",
    "datasets = FullDatasets(\"/home/zlj/Excavator_ReID/Trained_ReID_features/1716801040.6510997_map.npy\")\n",
    "full_x = datasets.data\n",
    "full_y = datasets.target\n",
    "full_y = [f'{x}' for x in datasets.target]\n",
    "full_y = numpy.array(full_y)\n",
    "full_label = datasets.classes\n",
    "full_label = [f'{x}' for x in datasets.classes]\n",
    "full_label = numpy.array(full_label)\n",
    "full_x_df = pandas.DataFrame(full_x)\n",
    "full_y_df = pandas.DataFrame(full_y)\n",
    "data_show = pandas.concat([full_y_df, full_x_df], axis=1)\n",
    "data_show"
   ],
   "outputs": []
  },
  {
   "cell_type": "code",
   "execution_count": 62,
   "metadata": {},
   "source": [
    "full_label"
   ],
   "outputs": []
  },
  {
   "cell_type": "code",
   "execution_count": 63,
   "metadata": {},
   "source": [
    "import pandas as pd\n",
    "X = numpy.concatenate((full_x, bank_x), axis=0)\n",
    "y = numpy.concatenate((full_y, bank_y), axis=0)\n",
    "show_y = pd.DataFrame(set(y)).T\n",
    "show_y"
   ],
   "outputs": []
  },
  {
   "cell_type": "markdown",
   "metadata": {},
   "source": [
    "## t-SNE or UMAP"
   ]
  },
  {
   "cell_type": "code",
   "execution_count": 64,
   "metadata": {},
   "source": [
    "from sklearn.manifold import TSNE\n",
    "from umap import UMAP\n",
    "# D_reduce = TSNE(n_components=2, random_state=1)\n",
    "D_reduce = UMAP(n_components=2, random_state=3)\n",
    "\n",
    "X_dd = D_reduce.fit_transform(X)"
   ],
   "outputs": []
  },
  {
   "cell_type": "code",
   "execution_count": 65,
   "metadata": {
    "ExecuteTime": {
     "end_time": "2024-04-28T13:46:05.307991Z",
     "start_time": "2024-04-28T13:46:03.446459Z"
    }
   },
   "source": [
    "import matplotlib.pyplot as plt\n",
    "from matplotlib.cm import get_cmap\n",
    "\n",
    "filtr_bank, filtr_full= numpy.isin(y, bank_y), numpy.isin(y, full_y) \n",
    "filtrs_bank = [y == y_l for y_l in bank_label]\n",
    "filtrs_full = [y == y_l for y_l in full_label]\n",
    "\n",
    "\n",
    "colormap = get_cmap('plasma')\n",
    "# print(filtrs[1].all() == False)\n",
    "# ax[0].scatter(X_dd[filtr_full, 0], X_dd[filtr_full, 1], color='blue')\n",
    "# ax[0].scatter(X_dd[filtr_bank, 0], X_dd[filtr_bank, 1], color='red')\n"
   ],
   "outputs": []
  },
  {
   "cell_type": "code",
   "execution_count": 66,
   "metadata": {},
   "source": [
    "bank_label"
   ],
   "outputs": []
  },
  {
   "cell_type": "code",
   "execution_count": 67,
   "metadata": {},
   "source": [
    "full_label"
   ],
   "outputs": []
  },
  {
   "cell_type": "markdown",
   "metadata": {},
   "source": [
    "### ID 1"
   ]
  },
  {
   "cell_type": "code",
   "execution_count": 68,
   "metadata": {},
   "source": [
    "fig, ax = plt.subplots(1, 2, figsize=(21, 10))\n",
    "\n",
    "filtr_b = filtrs_bank[0]\n",
    "filtr_f = filtrs_full[0]\n",
    "\n",
    "ax[0].scatter(X_dd[filtr_f, 0], X_dd[filtr_f, 1], color='blue', s=5)\n",
    "ax[0].scatter(X_dd[filtr_b, 0], X_dd[filtr_b, 1], color='red', s=5)\n",
    "\n",
    "for x, color in zip(X_dd[filtr_b], colormap(numpy.linspace(0, 1,len(X_dd[filtr_b])))):\n",
    "    ax[1].scatter(x[0], x[1], color=color, s=5)\n",
    "\n",
    "sc = ax[1].scatter(X_dd[filtr_b, 0], X_dd[filtr_b, 1],\n",
    "                   c=colormap(numpy.linspace(0, 1, len(X_dd[filtr_b]))),\n",
    "                   cmap=colormap, s=5)\n",
    "cbar = fig.colorbar(sc, ax=ax[1], orientation='vertical', fraction=0.02, pad=0.001)\n",
    "cbar.set_label('Time')\n",
    " \n",
    "ax[0].set_xlabel('t-SNE1')\n",
    "ax[0].set_ylabel('t-SNE2')\n",
    "for i in range(2):\n",
    "    # ax[i].set_xlim(-5, 20)\n",
    "    # ax[i].set_ylim(-5, 20)\n",
    "    ax[i].legend()\n",
    "\n",
    "plt.title(\"t-SNE of feature bank\")\n",
    "plt.show()"
   ],
   "outputs": []
  },
  {
   "cell_type": "markdown",
   "metadata": {},
   "source": [
    "#### 计算凸包"
   ]
  },
  {
   "cell_type": "code",
   "execution_count": 69,
   "metadata": {},
   "source": [
    "# 聚类\n",
    "from sklearn.cluster import KMeans, OPTICS, HDBSCAN, DBSCAN\n",
    "from sklearn.cluster import OPTICS\n",
    "from sklearn.cluster import SpectralClustering\n",
    "\n",
    "cluster1 = DBSCAN()\n",
    "cluster2 = DBSCAN(eps=1.5)\n",
    "f_l = cluster1.fit_predict(X_dd[filtr_f])\n",
    "b_l = cluster2.fit_predict(X_dd[filtr_b])\n",
    "\n",
    "clus = pd.concat([pd.DataFrame(set(f_l)), pd.DataFrame(set(b_l))], axis=1)\n",
    "clus.T\n"
   ],
   "outputs": []
  },
  {
   "cell_type": "code",
   "execution_count": 70,
   "metadata": {},
   "source": [
    "from scipy.spatial import ConvexHull\n",
    "f_clus = []\n",
    "b_clus = []\n",
    "\n",
    "fig, ax = plt.subplots(1, 2, figsize=(20, 10))\n",
    "\n",
    "for clu_idx in set(f_l):\n",
    "    f_clu = X_dd[filtr_f][f_l==clu_idx]\n",
    "    ax[0].scatter(f_clu[:, 0], f_clu[:, 1])\n",
    "    if clu_idx != -1:\n",
    "        f_hull = ConvexHull(f_clu) \n",
    "        ax[0].plot(f_clu[f_hull.vertices, 0], f_clu[f_hull.vertices, 1], 'r--')\n",
    "        f_clus.append(f_clu[f_hull.vertices])\n",
    "\n",
    "    \n",
    "for clu_idx in set(b_l):\n",
    "    b_clu = X_dd[filtr_b][b_l==clu_idx]\n",
    "    ax[1].scatter(b_clu[:, 0], b_clu[:, 1])\n",
    "    if clu_idx != -1:\n",
    "        b_hull = ConvexHull(b_clu)\n",
    "        ax[1].plot(b_clu[b_hull.vertices, 0], b_clu[b_hull.vertices, 1], 'r--')\n",
    "        b_clus.append(b_clu[b_hull.vertices])\n",
    "    \n",
    "plt.show()"
   ],
   "outputs": []
  },
  {
   "cell_type": "code",
   "execution_count": 71,
   "metadata": {},
   "source": [
    "from utils.hull_iou import calculate_group_iou\n",
    "print(calculate_group_iou(f_clus, b_clus))\n",
    "print(len(f_clus), len(b_clus))\n",
    "print(len(X_dd[filtr_f]), len(X_dd[filtr_b]))\n",
    "# f_clu[f_hull.vertices]"
   ],
   "outputs": []
  },
  {
   "cell_type": "markdown",
   "metadata": {},
   "source": [
    "### ID 2"
   ]
  },
  {
   "cell_type": "code",
   "execution_count": 72,
   "metadata": {},
   "source": [
    "fig, ax = plt.subplots(1, 2, figsize=(21, 10))\n",
    "\n",
    "filtr_b = filtrs_bank[1]\n",
    "filtr_f = filtrs_full[1]\n",
    "\n",
    "ax[0].scatter(X_dd[filtr_f, 0], X_dd[filtr_f, 1], color='blue', s=5)\n",
    "ax[0].scatter(X_dd[filtr_b, 0], X_dd[filtr_b, 1], color='red', s=5)\n",
    "\n",
    "for x, color in zip(X_dd[filtr_b], colormap(numpy.linspace(0, 1,len(X_dd[filtr_b])))):\n",
    "    ax[1].scatter(x[0], x[1], color=color, s=5)\n",
    "\n",
    "sc = ax[1].scatter(X_dd[filtr_b, 0], X_dd[filtr_b, 1],\n",
    "                   c=colormap(numpy.linspace(0, 1, len(X_dd[filtr_b]))),\n",
    "                   cmap=colormap, s=5)\n",
    "cbar = fig.colorbar(sc, ax=ax[1], orientation='vertical', fraction=0.02, pad=0.001)\n",
    "cbar.set_label('Time')\n",
    " \n",
    "ax[0].set_xlabel('t-SNE1')\n",
    "ax[0].set_ylabel('t-SNE2')\n",
    "for i in range(2):\n",
    "    # ax[i].set_xlim(-5, 20)\n",
    "    # ax[i].set_ylim(-5, 20)\n",
    "    ax[i].legend()\n",
    "\n",
    "plt.title(\"t-SNE of feature bank\")\n",
    "plt.show()"
   ],
   "outputs": []
  },
  {
   "cell_type": "markdown",
   "metadata": {},
   "source": [
    "#### 计算凸包"
   ]
  },
  {
   "cell_type": "code",
   "execution_count": 73,
   "metadata": {},
   "source": [
    "# 聚类\n",
    "from sklearn.cluster import KMeans, OPTICS, HDBSCAN, DBSCAN\n",
    "from sklearn.cluster import OPTICS\n",
    "from sklearn.cluster import SpectralClustering\n",
    "\n",
    "cluster1 = DBSCAN()\n",
    "cluster2 = DBSCAN(eps=1.5)\n",
    "f_l = cluster1.fit_predict(X_dd[filtr_f])\n",
    "b_l = cluster2.fit_predict(X_dd[filtr_b])\n",
    "\n",
    "clus = pd.concat([pd.DataFrame(set(f_l)), pd.DataFrame(set(b_l))], axis=1)\n",
    "clus.T\n"
   ],
   "outputs": []
  },
  {
   "cell_type": "code",
   "execution_count": 74,
   "metadata": {},
   "source": [
    "from scipy.spatial import ConvexHull\n",
    "f_clus = []\n",
    "b_clus = []\n",
    "\n",
    "fig, ax = plt.subplots(1, 2, figsize=(20, 10))\n",
    "\n",
    "for clu_idx in set(f_l):\n",
    "    f_clu = X_dd[filtr_f][f_l==clu_idx]\n",
    "    ax[0].scatter(f_clu[:, 0], f_clu[:, 1])\n",
    "    if clu_idx != -1:\n",
    "        f_hull = ConvexHull(f_clu) \n",
    "        ax[0].plot(f_clu[f_hull.vertices, 0], f_clu[f_hull.vertices, 1], 'r--')\n",
    "        f_clus.append(f_clu[f_hull.vertices])\n",
    "\n",
    "    \n",
    "for clu_idx in set(b_l):\n",
    "    b_clu = X_dd[filtr_b][b_l==clu_idx]\n",
    "    ax[1].scatter(b_clu[:, 0], b_clu[:, 1])\n",
    "    if clu_idx != -1:\n",
    "        b_hull = ConvexHull(b_clu)\n",
    "        ax[1].plot(b_clu[b_hull.vertices, 0], b_clu[b_hull.vertices, 1], 'r--')\n",
    "        b_clus.append(b_clu[b_hull.vertices])\n",
    "    \n",
    "plt.show()"
   ],
   "outputs": []
  },
  {
   "cell_type": "code",
   "execution_count": 75,
   "metadata": {},
   "source": [
    "from utils.hull_iou import calculate_group_iou\n",
    "print(calculate_group_iou(f_clus, b_clus))\n",
    "print(len(f_clus), len(b_clus))\n",
    "print(len(X_dd[filtr_f]), len(X_dd[filtr_b]))\n",
    "# f_clu[f_hull.vertices]"
   ],
   "outputs": []
  },
  {
   "cell_type": "markdown",
   "metadata": {},
   "source": [
    "### ID 3"
   ]
  },
  {
   "cell_type": "code",
   "execution_count": 76,
   "metadata": {},
   "source": [
    "fig, ax = plt.subplots(1, 2, figsize=(21, 10))\n",
    "\n",
    "filtr_b = filtrs_bank[2]\n",
    "filtr_f = filtrs_full[2]\n",
    "\n",
    "ax[0].scatter(X_dd[filtr_f, 0], X_dd[filtr_f, 1], color='blue', s=5)\n",
    "ax[0].scatter(X_dd[filtr_b, 0], X_dd[filtr_b, 1], color='red', s=5)\n",
    "\n",
    "for x, color in zip(X_dd[filtr_b], colormap(numpy.linspace(0, 1,len(X_dd[filtr_b])))):\n",
    "    ax[1].scatter(x[0], x[1], color=color, s=5)\n",
    "\n",
    "sc = ax[1].scatter(X_dd[filtr_b, 0], X_dd[filtr_b, 1],\n",
    "                   c=colormap(numpy.linspace(0, 1, len(X_dd[filtr_b]))),\n",
    "                   cmap=colormap, s=5)\n",
    "cbar = fig.colorbar(sc, ax=ax[1], orientation='vertical', fraction=0.02, pad=0.001)\n",
    "cbar.set_label('Time')\n",
    " \n",
    "ax[0].set_xlabel('t-SNE1')\n",
    "ax[0].set_ylabel('t-SNE2')\n",
    "for i in range(2):\n",
    "    # ax[i].set_xlim(-5, 20)\n",
    "    # ax[i].set_ylim(-5, 20)\n",
    "    ax[i].legend()\n",
    "\n",
    "plt.title(\"t-SNE of feature bank\")\n",
    "plt.show()"
   ],
   "outputs": []
  },
  {
   "cell_type": "markdown",
   "metadata": {},
   "source": [
    "#### 计算凸包"
   ]
  },
  {
   "cell_type": "code",
   "execution_count": 77,
   "metadata": {},
   "source": [
    "# 聚类\n",
    "from sklearn.cluster import KMeans, OPTICS, HDBSCAN, DBSCAN\n",
    "from sklearn.cluster import OPTICS\n",
    "from sklearn.cluster import SpectralClustering\n",
    "\n",
    "cluster1 = DBSCAN()\n",
    "cluster2 = DBSCAN(eps=1.5)\n",
    "f_l = cluster1.fit_predict(X_dd[filtr_f])\n",
    "b_l = cluster2.fit_predict(X_dd[filtr_b])\n",
    "\n",
    "clus = pd.concat([pd.DataFrame(set(f_l)), pd.DataFrame(set(b_l))], axis=1)\n",
    "clus.T\n"
   ],
   "outputs": []
  },
  {
   "cell_type": "code",
   "execution_count": 78,
   "metadata": {},
   "source": [
    "from scipy.spatial import ConvexHull\n",
    "f_clus = []\n",
    "b_clus = []\n",
    "\n",
    "fig, ax = plt.subplots(1, 2, figsize=(20, 10))\n",
    "\n",
    "for clu_idx in set(f_l):\n",
    "    f_clu = X_dd[filtr_f][f_l==clu_idx]\n",
    "    ax[0].scatter(f_clu[:, 0], f_clu[:, 1])\n",
    "    if clu_idx != -1:\n",
    "        f_hull = ConvexHull(f_clu) \n",
    "        ax[0].plot(f_clu[f_hull.vertices, 0], f_clu[f_hull.vertices, 1], 'r--')\n",
    "        f_clus.append(f_clu[f_hull.vertices])\n",
    "\n",
    "    \n",
    "for clu_idx in set(b_l):\n",
    "    b_clu = X_dd[filtr_b][b_l==clu_idx]\n",
    "    ax[1].scatter(b_clu[:, 0], b_clu[:, 1])\n",
    "    if clu_idx != -1:\n",
    "        b_hull = ConvexHull(b_clu)\n",
    "        ax[1].plot(b_clu[b_hull.vertices, 0], b_clu[b_hull.vertices, 1], 'r--')\n",
    "        b_clus.append(b_clu[b_hull.vertices])\n",
    "    \n",
    "plt.show()"
   ],
   "outputs": []
  },
  {
   "cell_type": "code",
   "execution_count": 79,
   "metadata": {},
   "source": [
    "from utils.hull_iou import calculate_group_iou\n",
    "print(calculate_group_iou(f_clus, b_clus))\n",
    "print(len(f_clus), len(b_clus))\n",
    "print(len(X_dd[filtr_f]), len(X_dd[filtr_b]))\n",
    "# f_clu[f_hull.vertices]"
   ],
   "outputs": []
  },
  {
   "cell_type": "markdown",
   "metadata": {},
   "source": [
    "### ID 4"
   ]
  },
  {
   "cell_type": "code",
   "execution_count": 80,
   "metadata": {},
   "source": [
    "fig, ax = plt.subplots(1, 2, figsize=(21, 10))\n",
    "\n",
    "filtr_b = filtrs_bank[3]\n",
    "filtr_f = filtrs_full[3]\n",
    "\n",
    "ax[0].scatter(X_dd[filtr_f, 0], X_dd[filtr_f, 1], color='blue', s=5)\n",
    "ax[0].scatter(X_dd[filtr_b, 0], X_dd[filtr_b, 1], color='red', s=5)\n",
    "\n",
    "for x, color in zip(X_dd[filtr_b], colormap(numpy.linspace(0, 1,len(X_dd[filtr_b])))):\n",
    "    ax[1].scatter(x[0], x[1], color=color, s=5)\n",
    "\n",
    "sc = ax[1].scatter(X_dd[filtr_b, 0], X_dd[filtr_b, 1],\n",
    "                   c=colormap(numpy.linspace(0, 1, len(X_dd[filtr_b]))),\n",
    "                   cmap=colormap, s=5)\n",
    "cbar = fig.colorbar(sc, ax=ax[1], orientation='vertical', fraction=0.02, pad=0.001)\n",
    "cbar.set_label('Time')\n",
    " \n",
    "ax[0].set_xlabel('t-SNE1')\n",
    "ax[0].set_ylabel('t-SNE2')\n",
    "for i in range(2):\n",
    "    # ax[i].set_xlim(-5, 20)\n",
    "    # ax[i].set_ylim(-5, 20)\n",
    "    ax[i].legend()\n",
    "\n",
    "plt.title(\"t-SNE of feature bank\")\n",
    "plt.show()"
   ],
   "outputs": []
  },
  {
   "cell_type": "markdown",
   "metadata": {},
   "source": [
    "#### 计算凸包"
   ]
  },
  {
   "cell_type": "code",
   "execution_count": 81,
   "metadata": {},
   "source": [
    "# 聚类\n",
    "from sklearn.cluster import KMeans, OPTICS, HDBSCAN, DBSCAN\n",
    "from sklearn.cluster import OPTICS\n",
    "from sklearn.cluster import SpectralClustering\n",
    "\n",
    "cluster1 = DBSCAN()\n",
    "cluster2 = DBSCAN(eps=1.5)\n",
    "f_l = cluster1.fit_predict(X_dd[filtr_f])\n",
    "b_l = cluster2.fit_predict(X_dd[filtr_b])\n",
    "\n",
    "clus = pd.concat([pd.DataFrame(set(f_l)), pd.DataFrame(set(b_l))], axis=1)\n",
    "clus.T\n"
   ],
   "outputs": []
  },
  {
   "cell_type": "code",
   "execution_count": 82,
   "metadata": {},
   "source": [
    "from scipy.spatial import ConvexHull\n",
    "f_clus = []\n",
    "b_clus = []\n",
    "\n",
    "fig, ax = plt.subplots(1, 2, figsize=(20, 10))\n",
    "\n",
    "for clu_idx in set(f_l):\n",
    "    f_clu = X_dd[filtr_f][f_l==clu_idx]\n",
    "    ax[0].scatter(f_clu[:, 0], f_clu[:, 1])\n",
    "    if clu_idx != -1:\n",
    "        f_hull = ConvexHull(f_clu) \n",
    "        ax[0].plot(f_clu[f_hull.vertices, 0], f_clu[f_hull.vertices, 1], 'r--')\n",
    "        f_clus.append(f_clu[f_hull.vertices])\n",
    "\n",
    "    \n",
    "for clu_idx in set(b_l):\n",
    "    b_clu = X_dd[filtr_b][b_l==clu_idx]\n",
    "    ax[1].scatter(b_clu[:, 0], b_clu[:, 1])\n",
    "    if clu_idx != -1:\n",
    "        b_hull = ConvexHull(b_clu)\n",
    "        ax[1].plot(b_clu[b_hull.vertices, 0], b_clu[b_hull.vertices, 1], 'r--')\n",
    "        b_clus.append(b_clu[b_hull.vertices])\n",
    "    \n",
    "plt.show()"
   ],
   "outputs": []
  },
  {
   "cell_type": "code",
   "execution_count": 83,
   "metadata": {},
   "source": [
    "from utils.hull_iou import calculate_group_iou\n",
    "print(calculate_group_iou(f_clus, b_clus))\n",
    "print(len(f_clus), len(b_clus))\n",
    "print(len(X_dd[filtr_f]), len(X_dd[filtr_b]))\n",
    "# f_clu[f_hull.vertices]"
   ],
   "outputs": []
  },
  {
   "cell_type": "markdown",
   "metadata": {},
   "source": [
    "### ID 5"
   ]
  },
  {
   "cell_type": "code",
   "execution_count": 84,
   "metadata": {},
   "source": [
    "fig, ax = plt.subplots(1, 2, figsize=(21, 10))\n",
    "\n",
    "filtr_b = filtrs_bank[4]\n",
    "filtr_f = filtrs_full[4]\n",
    "\n",
    "ax[0].scatter(X_dd[filtr_f, 0], X_dd[filtr_f, 1], color='blue', s=5)\n",
    "ax[0].scatter(X_dd[filtr_b, 0], X_dd[filtr_b, 1], color='red', s=5)\n",
    "\n",
    "for x, color in zip(X_dd[filtr_b], colormap(numpy.linspace(0, 1,len(X_dd[filtr_b])))):\n",
    "    ax[1].scatter(x[0], x[1], color=color, s=5)\n",
    "\n",
    "sc = ax[1].scatter(X_dd[filtr_b, 0], X_dd[filtr_b, 1],\n",
    "                   c=colormap(numpy.linspace(0, 1, len(X_dd[filtr_b]))),\n",
    "                   cmap=colormap, s=5)\n",
    "cbar = fig.colorbar(sc, ax=ax[1], orientation='vertical', fraction=0.02, pad=0.001)\n",
    "cbar.set_label('Time')\n",
    " \n",
    "ax[0].set_xlabel('t-SNE1')\n",
    "ax[0].set_ylabel('t-SNE2')\n",
    "for i in range(2):\n",
    "    # ax[i].set_xlim(-5, 20)\n",
    "    # ax[i].set_ylim(-5, 20)\n",
    "    ax[i].legend()\n",
    "\n",
    "plt.title(\"t-SNE of feature bank\")\n",
    "plt.show()"
   ],
   "outputs": []
  },
  {
   "cell_type": "markdown",
   "metadata": {},
   "source": [
    "#### 计算凸包"
   ]
  },
  {
   "cell_type": "code",
   "execution_count": 86,
   "metadata": {},
   "source": [
    "# 聚类\n",
    "from sklearn.cluster import KMeans, OPTICS, HDBSCAN, DBSCAN\n",
    "from sklearn.cluster import OPTICS\n",
    "from sklearn.cluster import SpectralClustering\n",
    "\n",
    "cluster1 = DBSCAN()\n",
    "cluster2 = DBSCAN(eps=1.5)\n",
    "f_l = cluster1.fit_predict(X_dd[filtr_f])\n",
    "b_l = cluster2.fit_predict(X_dd[filtr_b])\n",
    "\n",
    "clus = pd.concat([pd.DataFrame(set(f_l)), pd.DataFrame(set(b_l))], axis=1)\n",
    "clus.T\n"
   ],
   "outputs": []
  },
  {
   "cell_type": "code",
   "execution_count": 87,
   "metadata": {},
   "source": [
    "from scipy.spatial import ConvexHull\n",
    "f_clus = []\n",
    "b_clus = []\n",
    "\n",
    "fig, ax = plt.subplots(1, 2, figsize=(20, 10))\n",
    "\n",
    "for clu_idx in set(f_l):\n",
    "    f_clu = X_dd[filtr_f][f_l==clu_idx]\n",
    "    ax[0].scatter(f_clu[:, 0], f_clu[:, 1])\n",
    "    if clu_idx != -1:\n",
    "        f_hull = ConvexHull(f_clu) \n",
    "        ax[0].plot(f_clu[f_hull.vertices, 0], f_clu[f_hull.vertices, 1], 'r--')\n",
    "        f_clus.append(f_clu[f_hull.vertices])\n",
    "\n",
    "    \n",
    "for clu_idx in set(b_l):\n",
    "    b_clu = X_dd[filtr_b][b_l==clu_idx]\n",
    "    ax[1].scatter(b_clu[:, 0], b_clu[:, 1])\n",
    "    if clu_idx != -1:\n",
    "        b_hull = ConvexHull(b_clu)\n",
    "        ax[1].plot(b_clu[b_hull.vertices, 0], b_clu[b_hull.vertices, 1], 'r--')\n",
    "        b_clus.append(b_clu[b_hull.vertices])\n",
    "    \n",
    "plt.show()"
   ],
   "outputs": []
  },
  {
   "cell_type": "code",
   "execution_count": 88,
   "metadata": {},
   "source": [
    "from utils.hull_iou import calculate_group_iou\n",
    "print(calculate_group_iou(f_clus, b_clus))\n",
    "print(len(f_clus), len(b_clus))\n",
    "print(len(X_dd[filtr_f]), len(X_dd[filtr_b]))\n",
    "# f_clu[f_hull.vertices]"
   ],
   "outputs": []
  },
  {
   "cell_type": "markdown",
   "metadata": {},
   "source": [
    "### ID 6"
   ]
  },
  {
   "cell_type": "code",
   "execution_count": 89,
   "metadata": {},
   "source": [
    "fig, ax = plt.subplots(1, 2, figsize=(21, 10))\n",
    "\n",
    "filtr_b = filtrs_bank[5]\n",
    "filtr_f = filtrs_full[5]\n",
    "\n",
    "ax[0].scatter(X_dd[filtr_f, 0], X_dd[filtr_f, 1], color='blue', s=5)\n",
    "ax[0].scatter(X_dd[filtr_b, 0], X_dd[filtr_b, 1], color='red', s=5)\n",
    "\n",
    "for x, color in zip(X_dd[filtr_b], colormap(numpy.linspace(0, 1,len(X_dd[filtr_b])))):\n",
    "    ax[1].scatter(x[0], x[1], color=color, s=5)\n",
    "\n",
    "sc = ax[1].scatter(X_dd[filtr_b, 0], X_dd[filtr_b, 1],\n",
    "                   c=colormap(numpy.linspace(0, 1, len(X_dd[filtr_b]))),\n",
    "                   cmap=colormap, s=5)\n",
    "cbar = fig.colorbar(sc, ax=ax[1], orientation='vertical', fraction=0.02, pad=0.001)\n",
    "cbar.set_label('Time')\n",
    " \n",
    "ax[0].set_xlabel('t-SNE1')\n",
    "ax[0].set_ylabel('t-SNE2')\n",
    "for i in range(2):\n",
    "    # ax[i].set_xlim(-5, 20)\n",
    "    # ax[i].set_ylim(-5, 20)\n",
    "    ax[i].legend()\n",
    "\n",
    "plt.title(\"t-SNE of feature bank\")\n",
    "plt.show()"
   ],
   "outputs": []
  },
  {
   "cell_type": "markdown",
   "metadata": {},
   "source": [
    "#### 计算凸包"
   ]
  },
  {
   "cell_type": "code",
   "execution_count": 90,
   "metadata": {},
   "source": [
    "# 聚类\n",
    "from sklearn.cluster import KMeans, OPTICS, HDBSCAN, DBSCAN\n",
    "from sklearn.cluster import OPTICS\n",
    "from sklearn.cluster import SpectralClustering\n",
    "\n",
    "cluster1 = DBSCAN()\n",
    "cluster2 = DBSCAN(eps=1.5)\n",
    "f_l = cluster1.fit_predict(X_dd[filtr_f])\n",
    "b_l = cluster2.fit_predict(X_dd[filtr_b])\n",
    "\n",
    "clus = pd.concat([pd.DataFrame(set(f_l)), pd.DataFrame(set(b_l))], axis=1)\n",
    "clus.T\n"
   ],
   "outputs": []
  },
  {
   "cell_type": "code",
   "execution_count": 91,
   "metadata": {},
   "source": [
    "from scipy.spatial import ConvexHull\n",
    "f_clus = []\n",
    "b_clus = []\n",
    "\n",
    "fig, ax = plt.subplots(1, 2, figsize=(20, 10))\n",
    "\n",
    "for clu_idx in set(f_l):\n",
    "    f_clu = X_dd[filtr_f][f_l==clu_idx]\n",
    "    ax[0].scatter(f_clu[:, 0], f_clu[:, 1])\n",
    "    if clu_idx != -1:\n",
    "        f_hull = ConvexHull(f_clu) \n",
    "        ax[0].plot(f_clu[f_hull.vertices, 0], f_clu[f_hull.vertices, 1], 'r--')\n",
    "        f_clus.append(f_clu[f_hull.vertices])\n",
    "\n",
    "    \n",
    "for clu_idx in set(b_l):\n",
    "    b_clu = X_dd[filtr_b][b_l==clu_idx]\n",
    "    ax[1].scatter(b_clu[:, 0], b_clu[:, 1])\n",
    "    if clu_idx != -1:\n",
    "        b_hull = ConvexHull(b_clu)\n",
    "        ax[1].plot(b_clu[b_hull.vertices, 0], b_clu[b_hull.vertices, 1], 'r--')\n",
    "        b_clus.append(b_clu[b_hull.vertices])\n",
    "    \n",
    "plt.show()"
   ],
   "outputs": []
  },
  {
   "cell_type": "code",
   "execution_count": 92,
   "metadata": {},
   "source": [
    "from utils.hull_iou import calculate_group_iou\n",
    "print(calculate_group_iou(f_clus, b_clus))\n",
    "print(len(f_clus), len(b_clus))\n",
    "print(len(X_dd[filtr_f]), len(X_dd[filtr_b]))\n",
    "# f_clu[f_hull.vertices]"
   ],
   "outputs": []
  },
  {
   "cell_type": "markdown",
   "metadata": {},
   "source": [
    "### ID 7"
   ]
  },
  {
   "cell_type": "code",
   "execution_count": 149,
   "metadata": {},
   "source": [
    "fig, ax = plt.subplots(1, 2, figsize=(21, 10))\n",
    "\n",
    "filtr_b = filtrs_bank[6]\n",
    "filtr_f = filtrs_full[6]\n",
    "\n",
    "ax[0].scatter(X_dd[filtr_f, 0], X_dd[filtr_f, 1], color='blue', s=5)\n",
    "ax[0].scatter(X_dd[filtr_b, 0], X_dd[filtr_b, 1], color='red', s=5)\n",
    "\n",
    "print(X_dd[filtr_b].shape)\n",
    "\n",
    "for x, color in zip(X_dd[filtr_b], colormap(numpy.linspace(0, 1,len(X_dd[filtr_b])))):\n",
    "    ax[1].scatter(x[0], x[1], color=color, s=5)\n",
    "\n",
    "sc = ax[1].scatter(X_dd[filtr_b, 0], X_dd[filtr_b, 1],\n",
    "                   c=colormap(numpy.linspace(0, 1, len(X_dd[filtr_b]))),\n",
    "                   cmap=colormap, s=5)\n",
    "cbar = fig.colorbar(sc, ax=ax[1], orientation='vertical', fraction=0.02, pad=0.001)\n",
    "cbar.set_label('Time')\n",
    " \n",
    "ax[0].set_xlabel('t-SNE1')\n",
    "ax[0].set_ylabel('t-SNE2')\n",
    "for i in range(2):\n",
    "    # ax[i].set_xlim(-5, 20)\n",
    "    # ax[i].set_ylim(-5, 20)\n",
    "    ax[i].legend()\n",
    "\n",
    "plt.title(\"t-SNE of feature bank\")\n",
    "plt.show()"
   ],
   "outputs": []
  },
  {
   "cell_type": "markdown",
   "metadata": {},
   "source": [
    "#### 计算凸包"
   ]
  },
  {
   "cell_type": "code",
   "execution_count": 94,
   "metadata": {},
   "source": [
    "# 聚类\n",
    "from sklearn.cluster import KMeans, OPTICS, HDBSCAN, DBSCAN\n",
    "from sklearn.cluster import OPTICS\n",
    "from sklearn.cluster import SpectralClustering\n",
    "\n",
    "cluster1 = DBSCAN()\n",
    "cluster2 = DBSCAN(eps=1.5)\n",
    "f_l = cluster1.fit_predict(X_dd[filtr_f])\n",
    "b_l = cluster2.fit_predict(X_dd[filtr_b])\n",
    "\n",
    "clus = pd.concat([pd.DataFrame(set(f_l)), pd.DataFrame(set(b_l))], axis=1)\n",
    "clus.T\n"
   ],
   "outputs": []
  },
  {
   "cell_type": "code",
   "execution_count": 95,
   "metadata": {},
   "source": [
    "from scipy.spatial import ConvexHull\n",
    "f_clus = []\n",
    "b_clus = []\n",
    "\n",
    "fig, ax = plt.subplots(1, 2, figsize=(20, 10))\n",
    "\n",
    "for clu_idx in set(f_l):\n",
    "    f_clu = X_dd[filtr_f][f_l==clu_idx]\n",
    "    ax[0].scatter(f_clu[:, 0], f_clu[:, 1])\n",
    "    if clu_idx != -1:\n",
    "        f_hull = ConvexHull(f_clu) \n",
    "        ax[0].plot(f_clu[f_hull.vertices, 0], f_clu[f_hull.vertices, 1], 'r--')\n",
    "        f_clus.append(f_clu[f_hull.vertices])\n",
    "\n",
    "    \n",
    "for clu_idx in set(b_l):\n",
    "    b_clu = X_dd[filtr_b][b_l==clu_idx]\n",
    "    ax[1].scatter(b_clu[:, 0], b_clu[:, 1])\n",
    "    if clu_idx != -1:\n",
    "        b_hull = ConvexHull(b_clu)\n",
    "        ax[1].plot(b_clu[b_hull.vertices, 0], b_clu[b_hull.vertices, 1], 'r--')\n",
    "        b_clus.append(b_clu[b_hull.vertices])\n",
    "    \n",
    "plt.show()"
   ],
   "outputs": []
  },
  {
   "cell_type": "code",
   "execution_count": 96,
   "metadata": {},
   "source": [
    "from utils.hull_iou import calculate_group_iou\n",
    "print(calculate_group_iou(f_clus, b_clus))\n",
    "print(len(f_clus), len(b_clus))\n",
    "print(len(X_dd[filtr_f]), len(X_dd[filtr_b]))\n",
    "# f_clu[f_hull.vertices]"
   ],
   "outputs": []
  },
  {
   "cell_type": "markdown",
   "metadata": {},
   "source": [
    "### ID 8"
   ]
  },
  {
   "cell_type": "code",
   "execution_count": 148,
   "metadata": {},
   "source": [
    "fig, ax = plt.subplots(1, 2, figsize=(21, 10))\n",
    "\n",
    "filtr_b = filtrs_bank[7]\n",
    "filtr_f = filtrs_full[7]\n",
    "\n",
    "ax[0].scatter(X_dd[filtr_f, 0], X_dd[filtr_f, 1], color='blue', s=5)\n",
    "ax[0].scatter(X_dd[filtr_b, 0], X_dd[filtr_b, 1], color='red', s=5)\n",
    "\n",
    "print(X_dd[filtr_b].shape)\n",
    "\n",
    "for x, color in zip(X_dd[filtr_b], colormap(numpy.linspace(0, 1,len(X_dd[filtr_b])))):\n",
    "    ax[1].scatter(x[0], x[1], color=color, s=5)\n",
    "\n",
    "sc = ax[1].scatter(X_dd[filtr_b, 0], X_dd[filtr_b, 1],\n",
    "                   c=colormap(numpy.linspace(0, 1, len(X_dd[filtr_b]))),\n",
    "                   cmap=colormap, s=5)\n",
    "cbar = fig.colorbar(sc, ax=ax[1], orientation='vertical', fraction=0.02, pad=0.001)\n",
    "cbar.set_label('Time')\n",
    " \n",
    "ax[0].set_xlabel('t-SNE1')\n",
    "ax[0].set_ylabel('t-SNE2')\n",
    "for i in range(2):\n",
    "    # ax[i].set_xlim(-5, 20)\n",
    "    # ax[i].set_ylim(-5, 20)\n",
    "    ax[i].legend()\n",
    "\n",
    "plt.title(\"t-SNE of feature bank\")\n",
    "plt.show()"
   ],
   "outputs": []
  },
  {
   "cell_type": "markdown",
   "metadata": {},
   "source": [
    "#### 计算凸包"
   ]
  },
  {
   "cell_type": "code",
   "execution_count": 103,
   "metadata": {},
   "source": [
    "# 聚类\n",
    "from sklearn.cluster import KMeans, OPTICS, HDBSCAN, DBSCAN\n",
    "from sklearn.cluster import OPTICS\n",
    "from sklearn.cluster import SpectralClustering\n",
    "\n",
    "cluster1 = DBSCAN()\n",
    "cluster2 = DBSCAN(eps=1.5)\n",
    "f_l = cluster1.fit_predict(X_dd[filtr_f])\n",
    "b_l = cluster2.fit_predict(X_dd[filtr_b])\n",
    "\n",
    "clus = pd.concat([pd.DataFrame(set(f_l)), pd.DataFrame(set(b_l))], axis=1)\n",
    "clus.T\n"
   ],
   "outputs": []
  },
  {
   "cell_type": "code",
   "execution_count": 104,
   "metadata": {},
   "source": [
    "from scipy.spatial import ConvexHull\n",
    "f_clus = []\n",
    "b_clus = []\n",
    "\n",
    "fig, ax = plt.subplots(1, 2, figsize=(20, 10))\n",
    "\n",
    "for clu_idx in set(f_l):\n",
    "    f_clu = X_dd[filtr_f][f_l==clu_idx]\n",
    "    ax[0].scatter(f_clu[:, 0], f_clu[:, 1])\n",
    "    if clu_idx != -1:\n",
    "        f_hull = ConvexHull(f_clu) \n",
    "        ax[0].plot(f_clu[f_hull.vertices, 0], f_clu[f_hull.vertices, 1], 'r--')\n",
    "        f_clus.append(f_clu[f_hull.vertices])\n",
    "\n",
    "    \n",
    "for clu_idx in set(b_l):\n",
    "    b_clu = X_dd[filtr_b][b_l==clu_idx]\n",
    "    ax[1].scatter(b_clu[:, 0], b_clu[:, 1])\n",
    "    if clu_idx != -1:\n",
    "        b_hull = ConvexHull(b_clu)\n",
    "        ax[1].plot(b_clu[b_hull.vertices, 0], b_clu[b_hull.vertices, 1], 'r--')\n",
    "        b_clus.append(b_clu[b_hull.vertices])\n",
    "    \n",
    "plt.show()"
   ],
   "outputs": []
  },
  {
   "cell_type": "code",
   "execution_count": 105,
   "metadata": {},
   "source": [
    "from utils.hull_iou import calculate_group_iou\n",
    "print(calculate_group_iou(f_clus, b_clus))\n",
    "print(len(f_clus), len(b_clus))\n",
    "print(len(X_dd[filtr_f]), len(X_dd[filtr_b]))\n",
    "# f_clu[f_hull.vertices]"
   ],
   "outputs": []
  },
  {
   "cell_type": "markdown",
   "metadata": {},
   "source": [
    "### ID 9"
   ]
  },
  {
   "cell_type": "code",
   "execution_count": 147,
   "metadata": {},
   "source": [
    "fig, ax = plt.subplots(1, 2, figsize=(21, 10))\n",
    "\n",
    "filtr_b = filtrs_bank[8]\n",
    "filtr_f = filtrs_full[8]\n",
    "\n",
    "ax[0].scatter(X_dd[filtr_f, 0], X_dd[filtr_f, 1], color='blue', s=5)\n",
    "ax[0].scatter(X_dd[filtr_b, 0], X_dd[filtr_b, 1], color='red', s=5)\n",
    "\n",
    "print(X_dd[filtr_b].shape)\n",
    "\n",
    "for x, color in zip(X_dd[filtr_b], colormap(numpy.linspace(0, 1,len(X_dd[filtr_b])))):\n",
    "    ax[1].scatter(x[0], x[1], color=color, s=5)\n",
    "\n",
    "sc = ax[1].scatter(X_dd[filtr_b, 0], X_dd[filtr_b, 1],\n",
    "                   c=colormap(numpy.linspace(0, 1, len(X_dd[filtr_b]))),\n",
    "                   cmap=colormap, s=5)\n",
    "cbar = fig.colorbar(sc, ax=ax[1], orientation='vertical', fraction=0.02, pad=0.001)\n",
    "cbar.set_label('Time')\n",
    " \n",
    "ax[0].set_xlabel('t-SNE1')\n",
    "ax[0].set_ylabel('t-SNE2')\n",
    "for i in range(2):\n",
    "    # ax[i].set_xlim(-5, 20)\n",
    "    # ax[i].set_ylim(-5, 20)\n",
    "    ax[i].legend()\n",
    "\n",
    "plt.title(\"t-SNE of feature bank\")\n",
    "plt.show()"
   ],
   "outputs": []
  },
  {
   "cell_type": "markdown",
   "metadata": {},
   "source": [
    "#### 计算凸包"
   ]
  },
  {
   "cell_type": "code",
   "execution_count": 118,
   "metadata": {},
   "source": [
    "# 聚类\n",
    "from sklearn.cluster import KMeans, OPTICS, HDBSCAN, DBSCAN\n",
    "from sklearn.cluster import OPTICS\n",
    "from sklearn.cluster import SpectralClustering\n",
    "\n",
    "cluster1 = DBSCAN()\n",
    "cluster2 = DBSCAN(eps=1.5)\n",
    "f_l = cluster1.fit_predict(X_dd[filtr_f])\n",
    "b_l = cluster2.fit_predict(X_dd[filtr_b])\n",
    "\n",
    "clus = pd.concat([pd.DataFrame(set(f_l)), pd.DataFrame(set(b_l))], axis=1)\n",
    "clus.T\n"
   ],
   "outputs": []
  },
  {
   "cell_type": "code",
   "execution_count": 119,
   "metadata": {},
   "source": [
    "from scipy.spatial import ConvexHull\n",
    "f_clus = []\n",
    "b_clus = []\n",
    "\n",
    "fig, ax = plt.subplots(1, 2, figsize=(20, 10))\n",
    "\n",
    "for clu_idx in set(f_l):\n",
    "    f_clu = X_dd[filtr_f][f_l==clu_idx]\n",
    "    ax[0].scatter(f_clu[:, 0], f_clu[:, 1])\n",
    "    if clu_idx != -1:\n",
    "        f_hull = ConvexHull(f_clu) \n",
    "        ax[0].plot(f_clu[f_hull.vertices, 0], f_clu[f_hull.vertices, 1], 'r--')\n",
    "        f_clus.append(f_clu[f_hull.vertices])\n",
    "\n",
    "    \n",
    "for clu_idx in set(b_l):\n",
    "    b_clu = X_dd[filtr_b][b_l==clu_idx]\n",
    "    ax[1].scatter(b_clu[:, 0], b_clu[:, 1])\n",
    "    if clu_idx != -1:\n",
    "        b_hull = ConvexHull(b_clu)\n",
    "        ax[1].plot(b_clu[b_hull.vertices, 0], b_clu[b_hull.vertices, 1], 'r--')\n",
    "        b_clus.append(b_clu[b_hull.vertices])\n",
    "    \n",
    "plt.show()"
   ],
   "outputs": []
  },
  {
   "cell_type": "code",
   "execution_count": 120,
   "metadata": {},
   "source": [
    "from utils.hull_iou import calculate_group_iou\n",
    "print(calculate_group_iou(f_clus, b_clus))\n",
    "print(len(f_clus), len(b_clus))\n",
    "print(len(X_dd[filtr_f]), len(X_dd[filtr_b]))\n",
    "# f_clu[f_hull.vertices]"
   ],
   "outputs": []
  },
  {
   "cell_type": "markdown",
   "metadata": {},
   "source": [
    "### ID 10"
   ]
  },
  {
   "cell_type": "code",
   "execution_count": 146,
   "metadata": {},
   "source": [
    "fig, ax = plt.subplots(1, 2, figsize=(21, 10))\n",
    "\n",
    "filtr_b = filtrs_bank[9]\n",
    "filtr_f = filtrs_full[9]\n",
    "\n",
    "ax[0].scatter(X_dd[filtr_f, 0], X_dd[filtr_f, 1], color='blue', s=5)\n",
    "ax[0].scatter(X_dd[filtr_b, 0], X_dd[filtr_b, 1], color='red', s=5)\n",
    "\n",
    "print(X_dd[filtr_b].shape)\n",
    "\n",
    "for x, color in zip(X_dd[filtr_b], colormap(numpy.linspace(0, 1,len(X_dd[filtr_b])))):\n",
    "    ax[1].scatter(x[0], x[1], color=color, s=5)\n",
    "\n",
    "sc = ax[1].scatter(X_dd[filtr_b, 0], X_dd[filtr_b, 1],\n",
    "                   c=colormap(numpy.linspace(0, 1, len(X_dd[filtr_b]))),\n",
    "                   cmap=colormap, s=5)\n",
    "cbar = fig.colorbar(sc, ax=ax[1], orientation='vertical', fraction=0.02, pad=0.001)\n",
    "cbar.set_label('Time')\n",
    " \n",
    "ax[0].set_xlabel('t-SNE1')\n",
    "ax[0].set_ylabel('t-SNE2')\n",
    "for i in range(2):\n",
    "    # ax[i].set_xlim(-5, 20)\n",
    "    # ax[i].set_ylim(-5, 20)\n",
    "    ax[i].legend()\n",
    "\n",
    "plt.title(\"t-SNE of feature bank\")\n",
    "plt.show()"
   ],
   "outputs": []
  },
  {
   "cell_type": "markdown",
   "metadata": {},
   "source": [
    "#### 计算凸包"
   ]
  },
  {
   "cell_type": "code",
   "execution_count": 133,
   "metadata": {},
   "source": [
    "# 聚类\n",
    "from sklearn.cluster import KMeans, OPTICS, HDBSCAN, DBSCAN\n",
    "from sklearn.cluster import OPTICS\n",
    "from sklearn.cluster import SpectralClustering\n",
    "\n",
    "cluster1 = DBSCAN()\n",
    "cluster2 = DBSCAN(eps=1.5)\n",
    "f_l = cluster1.fit_predict(X_dd[filtr_f])\n",
    "b_l = cluster2.fit_predict(X_dd[filtr_b])\n",
    "\n",
    "clus = pd.concat([pd.DataFrame(set(f_l)), pd.DataFrame(set(b_l))], axis=1)\n",
    "clus.T\n"
   ],
   "outputs": []
  },
  {
   "cell_type": "code",
   "execution_count": 134,
   "metadata": {},
   "source": [
    "from scipy.spatial import ConvexHull\n",
    "f_clus = []\n",
    "b_clus = []\n",
    "\n",
    "fig, ax = plt.subplots(1, 2, figsize=(20, 10))\n",
    "\n",
    "for clu_idx in set(f_l):\n",
    "    f_clu = X_dd[filtr_f][f_l==clu_idx]\n",
    "    ax[0].scatter(f_clu[:, 0], f_clu[:, 1])\n",
    "    if clu_idx != -1:\n",
    "        f_hull = ConvexHull(f_clu) \n",
    "        ax[0].plot(f_clu[f_hull.vertices, 0], f_clu[f_hull.vertices, 1], 'r--')\n",
    "        f_clus.append(f_clu[f_hull.vertices])\n",
    "\n",
    "    \n",
    "for clu_idx in set(b_l):\n",
    "    b_clu = X_dd[filtr_b][b_l==clu_idx]\n",
    "    ax[1].scatter(b_clu[:, 0], b_clu[:, 1])\n",
    "    if clu_idx != -1:\n",
    "        b_hull = ConvexHull(b_clu)\n",
    "        ax[1].plot(b_clu[b_hull.vertices, 0], b_clu[b_hull.vertices, 1], 'r--')\n",
    "        b_clus.append(b_clu[b_hull.vertices])\n",
    "    \n",
    "plt.show()"
   ],
   "outputs": []
  },
  {
   "cell_type": "code",
   "execution_count": 135,
   "metadata": {},
   "source": [
    "from utils.hull_iou import calculate_group_iou\n",
    "print(calculate_group_iou(f_clus, b_clus))\n",
    "print(len(f_clus), len(b_clus))\n",
    "print(len(X_dd[filtr_f]), len(X_dd[filtr_b]))\n",
    "# f_clu[f_hull.vertices]"
   ],
   "outputs": []
  },
  {
   "cell_type": "markdown",
   "metadata": {},
   "source": [
    "### ID 11"
   ]
  },
  {
   "cell_type": "code",
   "execution_count": 145,
   "metadata": {},
   "source": [
    "fig, ax = plt.subplots(1, 2, figsize=(21, 10))\n",
    "\n",
    "filtr_b = filtrs_bank[10]\n",
    "filtr_f = filtrs_full[10]\n",
    "\n",
    "ax[0].scatter(X_dd[filtr_f, 0], X_dd[filtr_f, 1], color='blue', s=5)\n",
    "ax[0].scatter(X_dd[filtr_b, 0], X_dd[filtr_b, 1], color='red', s=5)\n",
    "\n",
    "print(X_dd[filtr_b].shape)\n",
    "\n",
    "for x, color in zip(X_dd[filtr_b], colormap(numpy.linspace(0, 1,len(X_dd[filtr_b])))):\n",
    "    ax[1].scatter(x[0], x[1], color=color, s=5)\n",
    "\n",
    "sc = ax[1].scatter(X_dd[filtr_b, 0], X_dd[filtr_b, 1],\n",
    "                   c=colormap(numpy.linspace(0, 1, len(X_dd[filtr_b]))),\n",
    "                   cmap=colormap, s=5)\n",
    "cbar = fig.colorbar(sc, ax=ax[1], orientation='vertical', fraction=0.02, pad=0.001)\n",
    "cbar.set_label('Time')\n",
    " \n",
    "ax[0].set_xlabel('t-SNE1')\n",
    "ax[0].set_ylabel('t-SNE2')\n",
    "for i in range(2):\n",
    "    # ax[i].set_xlim(-5, 20)\n",
    "    # ax[i].set_ylim(-5, 20)\n",
    "    ax[i].legend()\n",
    "\n",
    "plt.title(\"t-SNE of feature bank\")\n",
    "plt.show()"
   ],
   "outputs": []
  },
  {
   "cell_type": "markdown",
   "metadata": {},
   "source": [
    "#### 计算凸包"
   ]
  },
  {
   "cell_type": "code",
   "execution_count": 137,
   "metadata": {},
   "source": [
    "# 聚类\n",
    "from sklearn.cluster import KMeans, OPTICS, HDBSCAN, DBSCAN\n",
    "from sklearn.cluster import OPTICS\n",
    "from sklearn.cluster import SpectralClustering\n",
    "\n",
    "cluster1 = DBSCAN()\n",
    "cluster2 = DBSCAN(eps=1.5)\n",
    "f_l = cluster1.fit_predict(X_dd[filtr_f])\n",
    "b_l = cluster2.fit_predict(X_dd[filtr_b])\n",
    "\n",
    "clus = pd.concat([pd.DataFrame(set(f_l)), pd.DataFrame(set(b_l))], axis=1)\n",
    "clus.T\n"
   ],
   "outputs": []
  },
  {
   "cell_type": "code",
   "execution_count": 138,
   "metadata": {},
   "source": [
    "from scipy.spatial import ConvexHull\n",
    "f_clus = []\n",
    "b_clus = []\n",
    "\n",
    "fig, ax = plt.subplots(1, 2, figsize=(20, 10))\n",
    "\n",
    "for clu_idx in set(f_l):\n",
    "    f_clu = X_dd[filtr_f][f_l==clu_idx]\n",
    "    ax[0].scatter(f_clu[:, 0], f_clu[:, 1])\n",
    "    if clu_idx != -1:\n",
    "        f_hull = ConvexHull(f_clu) \n",
    "        ax[0].plot(f_clu[f_hull.vertices, 0], f_clu[f_hull.vertices, 1], 'r--')\n",
    "        f_clus.append(f_clu[f_hull.vertices])\n",
    "\n",
    "    \n",
    "for clu_idx in set(b_l):\n",
    "    b_clu = X_dd[filtr_b][b_l==clu_idx]\n",
    "    ax[1].scatter(b_clu[:, 0], b_clu[:, 1])\n",
    "    if clu_idx != -1:\n",
    "        b_hull = ConvexHull(b_clu)\n",
    "        ax[1].plot(b_clu[b_hull.vertices, 0], b_clu[b_hull.vertices, 1], 'r--')\n",
    "        b_clus.append(b_clu[b_hull.vertices])\n",
    "    \n",
    "plt.show()"
   ],
   "outputs": []
  },
  {
   "cell_type": "code",
   "execution_count": 139,
   "metadata": {},
   "source": [
    "from utils.hull_iou import calculate_group_iou\n",
    "print(calculate_group_iou(f_clus, b_clus))\n",
    "print(len(f_clus), len(b_clus))\n",
    "print(len(X_dd[filtr_f]), len(X_dd[filtr_b]))\n",
    "# f_clu[f_hull.vertices]"
   ],
   "outputs": []
  },
  {
   "cell_type": "markdown",
   "metadata": {},
   "source": [
    "### ID 12"
   ]
  },
  {
   "cell_type": "code",
   "execution_count": 144,
   "metadata": {},
   "source": [
    "fig, ax = plt.subplots(1, 2, figsize=(21, 10))\n",
    "\n",
    "filtr_b = filtrs_bank[11]\n",
    "filtr_f = filtrs_full[11]\n",
    "\n",
    "ax[0].scatter(X_dd[filtr_f, 0], X_dd[filtr_f, 1], color='blue', s=5)\n",
    "ax[0].scatter(X_dd[filtr_b, 0], X_dd[filtr_b, 1], color='red', s=5)\n",
    "\n",
    "print(X_dd[filtr_b].shape)\n",
    "\n",
    "for x, color in zip(X_dd[filtr_b], colormap(numpy.linspace(0, 1,len(X_dd[filtr_b])))):\n",
    "    ax[1].scatter(x[0], x[1], color=color, s=5)\n",
    "\n",
    "sc = ax[1].scatter(X_dd[filtr_b, 0], X_dd[filtr_b, 1],\n",
    "                   c=colormap(numpy.linspace(0, 1, len(X_dd[filtr_b]))),\n",
    "                   cmap=colormap, s=5)\n",
    "cbar = fig.colorbar(sc, ax=ax[1], orientation='vertical', fraction=0.02, pad=0.001)\n",
    "cbar.set_label('Time')\n",
    " \n",
    "ax[0].set_xlabel('t-SNE1')\n",
    "ax[0].set_ylabel('t-SNE2')\n",
    "for i in range(2):\n",
    "    # ax[i].set_xlim(-5, 20)\n",
    "    # ax[i].set_ylim(-5, 20)\n",
    "    ax[i].legend()\n",
    "\n",
    "plt.title(\"t-SNE of feature bank\")\n",
    "plt.show()"
   ],
   "outputs": []
  },
  {
   "cell_type": "markdown",
   "metadata": {},
   "source": [
    "#### 计算凸包"
   ]
  },
  {
   "cell_type": "code",
   "execution_count": 141,
   "metadata": {},
   "source": [
    "# 聚类\n",
    "from sklearn.cluster import KMeans, OPTICS, HDBSCAN, DBSCAN\n",
    "from sklearn.cluster import OPTICS\n",
    "from sklearn.cluster import SpectralClustering\n",
    "\n",
    "cluster1 = DBSCAN()\n",
    "cluster2 = DBSCAN(eps=1.5)\n",
    "f_l = cluster1.fit_predict(X_dd[filtr_f])\n",
    "b_l = cluster2.fit_predict(X_dd[filtr_b])\n",
    "\n",
    "clus = pd.concat([pd.DataFrame(set(f_l)), pd.DataFrame(set(b_l))], axis=1)\n",
    "clus.T\n"
   ],
   "outputs": []
  },
  {
   "cell_type": "code",
   "execution_count": 142,
   "metadata": {},
   "source": [
    "from scipy.spatial import ConvexHull\n",
    "f_clus = []\n",
    "b_clus = []\n",
    "\n",
    "fig, ax = plt.subplots(1, 2, figsize=(20, 10))\n",
    "\n",
    "for clu_idx in set(f_l):\n",
    "    f_clu = X_dd[filtr_f][f_l==clu_idx]\n",
    "    ax[0].scatter(f_clu[:, 0], f_clu[:, 1])\n",
    "    if clu_idx != -1:\n",
    "        f_hull = ConvexHull(f_clu) \n",
    "        ax[0].plot(f_clu[f_hull.vertices, 0], f_clu[f_hull.vertices, 1], 'r--')\n",
    "        f_clus.append(f_clu[f_hull.vertices])\n",
    "\n",
    "    \n",
    "for clu_idx in set(b_l):\n",
    "    b_clu = X_dd[filtr_b][b_l==clu_idx]\n",
    "    ax[1].scatter(b_clu[:, 0], b_clu[:, 1])\n",
    "    if clu_idx != -1:\n",
    "        b_hull = ConvexHull(b_clu)\n",
    "        ax[1].plot(b_clu[b_hull.vertices, 0], b_clu[b_hull.vertices, 1], 'r--')\n",
    "        b_clus.append(b_clu[b_hull.vertices])\n",
    "    \n",
    "plt.show()"
   ],
   "outputs": []
  },
  {
   "cell_type": "code",
   "execution_count": 143,
   "metadata": {},
   "source": [
    "from utils.hull_iou import calculate_group_iou\n",
    "print(calculate_group_iou(f_clus, b_clus))\n",
    "print(len(f_clus), len(b_clus))\n",
    "print(len(X_dd[filtr_f]), len(X_dd[filtr_b]))\n",
    "# f_clu[f_hull.vertices]"
   ],
   "outputs": []
  },
  {
   "cell_type": "markdown",
   "metadata": {},
   "source": [
    "### ID 13"
   ]
  },
  {
   "cell_type": "code",
   "execution_count": 151,
   "metadata": {},
   "source": [
    "fig, ax = plt.subplots(1, 2, figsize=(21, 10))\n",
    "\n",
    "filtr_b = filtrs_bank[12]\n",
    "filtr_f = filtrs_full[12]\n",
    "\n",
    "ax[0].scatter(X_dd[filtr_f, 0], X_dd[filtr_f, 1], color='blue', s=5)\n",
    "ax[0].scatter(X_dd[filtr_b, 0], X_dd[filtr_b, 1], color='red', s=5)\n",
    "\n",
    "print(X_dd[filtr_f].shape)\n",
    "\n",
    "for x, color in zip(X_dd[filtr_b], colormap(numpy.linspace(0, 1,len(X_dd[filtr_b])))):\n",
    "    ax[1].scatter(x[0], x[1], color=color, s=5)\n",
    "\n",
    "sc = ax[1].scatter(X_dd[filtr_b, 0], X_dd[filtr_b, 1],\n",
    "                   c=colormap(numpy.linspace(0, 1, len(X_dd[filtr_b]))),\n",
    "                   cmap=colormap, s=5)\n",
    "cbar = fig.colorbar(sc, ax=ax[1], orientation='vertical', fraction=0.02, pad=0.001)\n",
    "cbar.set_label('Time')\n",
    " \n",
    "ax[0].set_xlabel('t-SNE1')\n",
    "ax[0].set_ylabel('t-SNE2')\n",
    "for i in range(2):\n",
    "    # ax[i].set_xlim(-5, 20)\n",
    "    # ax[i].set_ylim(-5, 20)\n",
    "    ax[i].legend()\n",
    "\n",
    "plt.title(\"t-SNE of feature bank\")\n",
    "plt.show()"
   ],
   "outputs": []
  },
  {
   "cell_type": "markdown",
   "metadata": {},
   "source": [
    "#### 计算凸包"
   ]
  },
  {
   "cell_type": "code",
   "execution_count": 152,
   "metadata": {},
   "source": [
    "# 聚类\n",
    "from sklearn.cluster import KMeans, OPTICS, HDBSCAN, DBSCAN\n",
    "from sklearn.cluster import OPTICS\n",
    "from sklearn.cluster import SpectralClustering\n",
    "\n",
    "cluster1 = DBSCAN()\n",
    "cluster2 = DBSCAN(eps=1.5)\n",
    "f_l = cluster1.fit_predict(X_dd[filtr_f])\n",
    "b_l = cluster2.fit_predict(X_dd[filtr_b])\n",
    "\n",
    "clus = pd.concat([pd.DataFrame(set(f_l)), pd.DataFrame(set(b_l))], axis=1)\n",
    "clus.T\n"
   ],
   "outputs": []
  },
  {
   "cell_type": "code",
   "execution_count": 153,
   "metadata": {},
   "source": [
    "from scipy.spatial import ConvexHull\n",
    "f_clus = []\n",
    "b_clus = []\n",
    "\n",
    "fig, ax = plt.subplots(1, 2, figsize=(20, 10))\n",
    "\n",
    "for clu_idx in set(f_l):\n",
    "    f_clu = X_dd[filtr_f][f_l==clu_idx]\n",
    "    ax[0].scatter(f_clu[:, 0], f_clu[:, 1])\n",
    "    if clu_idx != -1:\n",
    "        f_hull = ConvexHull(f_clu) \n",
    "        ax[0].plot(f_clu[f_hull.vertices, 0], f_clu[f_hull.vertices, 1], 'r--')\n",
    "        f_clus.append(f_clu[f_hull.vertices])\n",
    "\n",
    "    \n",
    "for clu_idx in set(b_l):\n",
    "    b_clu = X_dd[filtr_b][b_l==clu_idx]\n",
    "    ax[1].scatter(b_clu[:, 0], b_clu[:, 1])\n",
    "    if clu_idx != -1:\n",
    "        b_hull = ConvexHull(b_clu)\n",
    "        ax[1].plot(b_clu[b_hull.vertices, 0], b_clu[b_hull.vertices, 1], 'r--')\n",
    "        b_clus.append(b_clu[b_hull.vertices])\n",
    "    \n",
    "plt.show()"
   ],
   "outputs": []
  },
  {
   "cell_type": "code",
   "execution_count": 154,
   "metadata": {},
   "source": [
    "from utils.hull_iou import calculate_group_iou\n",
    "print(calculate_group_iou(f_clus, b_clus))\n",
    "print(len(f_clus), len(b_clus))\n",
    "print(len(X_dd[filtr_f]), len(X_dd[filtr_b]))\n",
    "# f_clu[f_hull.vertices]"
   ],
   "outputs": []
  },
  {
   "cell_type": "markdown",
   "metadata": {},
   "source": [
    "### ID 14"
   ]
  },
  {
   "cell_type": "code",
   "execution_count": 156,
   "metadata": {},
   "source": [
    "fig, ax = plt.subplots(1, 2, figsize=(21, 10))\n",
    "\n",
    "filtr_b = filtrs_bank[13]\n",
    "filtr_f = filtrs_full[13]\n",
    "\n",
    "ax[0].scatter(X_dd[filtr_f, 0], X_dd[filtr_f, 1], color='blue', s=5)\n",
    "ax[0].scatter(X_dd[filtr_b, 0], X_dd[filtr_b, 1], color='red', s=5)\n",
    "\n",
    "print(X_dd[filtr_f].shape)\n",
    "\n",
    "for x, color in zip(X_dd[filtr_b], colormap(numpy.linspace(0, 1,len(X_dd[filtr_b])))):\n",
    "    ax[1].scatter(x[0], x[1], color=color, s=5)\n",
    "\n",
    "sc = ax[1].scatter(X_dd[filtr_b, 0], X_dd[filtr_b, 1],\n",
    "                   c=colormap(numpy.linspace(0, 1, len(X_dd[filtr_b]))),\n",
    "                   cmap=colormap, s=5)\n",
    "cbar = fig.colorbar(sc, ax=ax[1], orientation='vertical', fraction=0.02, pad=0.001)\n",
    "cbar.set_label('Time')\n",
    " \n",
    "ax[0].set_xlabel('t-SNE1')\n",
    "ax[0].set_ylabel('t-SNE2')\n",
    "for i in range(2):\n",
    "    # ax[i].set_xlim(-5, 20)\n",
    "    # ax[i].set_ylim(-5, 20)\n",
    "    ax[i].legend()\n",
    "\n",
    "plt.title(\"t-SNE of feature bank\")\n",
    "plt.show()"
   ],
   "outputs": []
  },
  {
   "cell_type": "markdown",
   "metadata": {},
   "source": [
    "#### 计算凸包"
   ]
  },
  {
   "cell_type": "code",
   "execution_count": 157,
   "metadata": {},
   "source": [
    "# 聚类\n",
    "from sklearn.cluster import KMeans, OPTICS, HDBSCAN, DBSCAN\n",
    "from sklearn.cluster import OPTICS\n",
    "from sklearn.cluster import SpectralClustering\n",
    "\n",
    "cluster1 = DBSCAN()\n",
    "cluster2 = DBSCAN(eps=1.5)\n",
    "f_l = cluster1.fit_predict(X_dd[filtr_f])\n",
    "b_l = cluster2.fit_predict(X_dd[filtr_b])\n",
    "\n",
    "clus = pd.concat([pd.DataFrame(set(f_l)), pd.DataFrame(set(b_l))], axis=1)\n",
    "clus.T\n"
   ],
   "outputs": []
  },
  {
   "cell_type": "code",
   "execution_count": 158,
   "metadata": {},
   "source": [
    "from scipy.spatial import ConvexHull\n",
    "f_clus = []\n",
    "b_clus = []\n",
    "\n",
    "fig, ax = plt.subplots(1, 2, figsize=(20, 10))\n",
    "\n",
    "for clu_idx in set(f_l):\n",
    "    f_clu = X_dd[filtr_f][f_l==clu_idx]\n",
    "    ax[0].scatter(f_clu[:, 0], f_clu[:, 1])\n",
    "    if clu_idx != -1:\n",
    "        f_hull = ConvexHull(f_clu) \n",
    "        ax[0].plot(f_clu[f_hull.vertices, 0], f_clu[f_hull.vertices, 1], 'r--')\n",
    "        f_clus.append(f_clu[f_hull.vertices])\n",
    "\n",
    "    \n",
    "for clu_idx in set(b_l):\n",
    "    b_clu = X_dd[filtr_b][b_l==clu_idx]\n",
    "    ax[1].scatter(b_clu[:, 0], b_clu[:, 1])\n",
    "    if clu_idx != -1:\n",
    "        b_hull = ConvexHull(b_clu)\n",
    "        ax[1].plot(b_clu[b_hull.vertices, 0], b_clu[b_hull.vertices, 1], 'r--')\n",
    "        b_clus.append(b_clu[b_hull.vertices])\n",
    "    \n",
    "plt.show()"
   ],
   "outputs": []
  },
  {
   "cell_type": "code",
   "execution_count": 159,
   "metadata": {},
   "source": [
    "from utils.hull_iou import calculate_group_iou\n",
    "print(calculate_group_iou(f_clus, b_clus))\n",
    "print(len(f_clus), len(b_clus))\n",
    "print(len(X_dd[filtr_f]), len(X_dd[filtr_b]))\n",
    "# f_clu[f_hull.vertices]"
   ],
   "outputs": []
  },
  {
   "cell_type": "markdown",
   "metadata": {},
   "source": [
    "### ID 15"
   ]
  },
  {
   "cell_type": "code",
   "execution_count": 160,
   "metadata": {},
   "source": [
    "fig, ax = plt.subplots(1, 2, figsize=(21, 10))\n",
    "\n",
    "filtr_b = filtrs_bank[14]\n",
    "filtr_f = filtrs_full[14]\n",
    "\n",
    "ax[0].scatter(X_dd[filtr_f, 0], X_dd[filtr_f, 1], color='blue', s=5)\n",
    "ax[0].scatter(X_dd[filtr_b, 0], X_dd[filtr_b, 1], color='red', s=5)\n",
    "\n",
    "print(X_dd[filtr_f].shape)\n",
    "\n",
    "for x, color in zip(X_dd[filtr_b], colormap(numpy.linspace(0, 1,len(X_dd[filtr_b])))):\n",
    "    ax[1].scatter(x[0], x[1], color=color, s=5)\n",
    "\n",
    "sc = ax[1].scatter(X_dd[filtr_b, 0], X_dd[filtr_b, 1],\n",
    "                   c=colormap(numpy.linspace(0, 1, len(X_dd[filtr_b]))),\n",
    "                   cmap=colormap, s=5)\n",
    "cbar = fig.colorbar(sc, ax=ax[1], orientation='vertical', fraction=0.02, pad=0.001)\n",
    "cbar.set_label('Time')\n",
    " \n",
    "ax[0].set_xlabel('t-SNE1')\n",
    "ax[0].set_ylabel('t-SNE2')\n",
    "for i in range(2):\n",
    "    # ax[i].set_xlim(-5, 20)\n",
    "    # ax[i].set_ylim(-5, 20)\n",
    "    ax[i].legend()\n",
    "\n",
    "plt.title(\"t-SNE of feature bank\")\n",
    "plt.show()"
   ],
   "outputs": []
  },
  {
   "cell_type": "markdown",
   "metadata": {},
   "source": [
    "#### 计算凸包"
   ]
  },
  {
   "cell_type": "code",
   "execution_count": 161,
   "metadata": {},
   "source": [
    "# 聚类\n",
    "from sklearn.cluster import KMeans, OPTICS, HDBSCAN, DBSCAN\n",
    "from sklearn.cluster import OPTICS\n",
    "from sklearn.cluster import SpectralClustering\n",
    "\n",
    "cluster1 = DBSCAN()\n",
    "cluster2 = DBSCAN(eps=1.5)\n",
    "f_l = cluster1.fit_predict(X_dd[filtr_f])\n",
    "b_l = cluster2.fit_predict(X_dd[filtr_b])\n",
    "\n",
    "clus = pd.concat([pd.DataFrame(set(f_l)), pd.DataFrame(set(b_l))], axis=1)\n",
    "clus.T\n"
   ],
   "outputs": []
  },
  {
   "cell_type": "code",
   "execution_count": 162,
   "metadata": {},
   "source": [
    "from scipy.spatial import ConvexHull\n",
    "f_clus = []\n",
    "b_clus = []\n",
    "\n",
    "fig, ax = plt.subplots(1, 2, figsize=(20, 10))\n",
    "\n",
    "for clu_idx in set(f_l):\n",
    "    f_clu = X_dd[filtr_f][f_l==clu_idx]\n",
    "    ax[0].scatter(f_clu[:, 0], f_clu[:, 1])\n",
    "    if clu_idx != -1:\n",
    "        f_hull = ConvexHull(f_clu) \n",
    "        ax[0].plot(f_clu[f_hull.vertices, 0], f_clu[f_hull.vertices, 1], 'r--')\n",
    "        f_clus.append(f_clu[f_hull.vertices])\n",
    "\n",
    "    \n",
    "for clu_idx in set(b_l):\n",
    "    b_clu = X_dd[filtr_b][b_l==clu_idx]\n",
    "    ax[1].scatter(b_clu[:, 0], b_clu[:, 1])\n",
    "    if clu_idx != -1:\n",
    "        b_hull = ConvexHull(b_clu)\n",
    "        ax[1].plot(b_clu[b_hull.vertices, 0], b_clu[b_hull.vertices, 1], 'r--')\n",
    "        b_clus.append(b_clu[b_hull.vertices])\n",
    "    \n",
    "plt.show()"
   ],
   "outputs": []
  },
  {
   "cell_type": "code",
   "execution_count": 163,
   "metadata": {},
   "source": [
    "from utils.hull_iou import calculate_group_iou\n",
    "print(calculate_group_iou(f_clus, b_clus))\n",
    "print(len(f_clus), len(b_clus))\n",
    "print(len(X_dd[filtr_f]), len(X_dd[filtr_b]))\n",
    "# f_clu[f_hull.vertices]"
   ],
   "outputs": []
  },
  {
   "cell_type": "markdown",
   "metadata": {},
   "source": [
    "### ID 16"
   ]
  },
  {
   "cell_type": "code",
   "execution_count": 164,
   "metadata": {},
   "source": [
    "fig, ax = plt.subplots(1, 2, figsize=(21, 10))\n",
    "\n",
    "filtr_b = filtrs_bank[15]\n",
    "filtr_f = filtrs_full[15]\n",
    "\n",
    "ax[0].scatter(X_dd[filtr_f, 0], X_dd[filtr_f, 1], color='blue', s=5)\n",
    "ax[0].scatter(X_dd[filtr_b, 0], X_dd[filtr_b, 1], color='red', s=5)\n",
    "\n",
    "print(X_dd[filtr_f].shape)\n",
    "\n",
    "for x, color in zip(X_dd[filtr_b], colormap(numpy.linspace(0, 1,len(X_dd[filtr_b])))):\n",
    "    ax[1].scatter(x[0], x[1], color=color, s=5)\n",
    "\n",
    "sc = ax[1].scatter(X_dd[filtr_b, 0], X_dd[filtr_b, 1],\n",
    "                   c=colormap(numpy.linspace(0, 1, len(X_dd[filtr_b]))),\n",
    "                   cmap=colormap, s=5)\n",
    "cbar = fig.colorbar(sc, ax=ax[1], orientation='vertical', fraction=0.02, pad=0.001)\n",
    "cbar.set_label('Time')\n",
    " \n",
    "ax[0].set_xlabel('t-SNE1')\n",
    "ax[0].set_ylabel('t-SNE2')\n",
    "for i in range(2):\n",
    "    # ax[i].set_xlim(-5, 20)\n",
    "    # ax[i].set_ylim(-5, 20)\n",
    "    ax[i].legend()\n",
    "\n",
    "plt.title(\"t-SNE of feature bank\")\n",
    "plt.show()"
   ],
   "outputs": []
  },
  {
   "cell_type": "markdown",
   "metadata": {},
   "source": [
    "#### 计算凸包"
   ]
  },
  {
   "cell_type": "code",
   "execution_count": 166,
   "metadata": {},
   "source": [
    "# 聚类\n",
    "from sklearn.cluster import KMeans, OPTICS, HDBSCAN, DBSCAN\n",
    "from sklearn.cluster import OPTICS\n",
    "from sklearn.cluster import SpectralClustering\n",
    "\n",
    "cluster1 = DBSCAN()\n",
    "cluster2 = DBSCAN(eps=1.5)\n",
    "f_l = cluster1.fit_predict(X_dd[filtr_f])\n",
    "b_l = cluster2.fit_predict(X_dd[filtr_b])\n",
    "\n",
    "clus = pd.concat([pd.DataFrame(set(f_l)), pd.DataFrame(set(b_l))], axis=1)\n",
    "clus.T\n"
   ],
   "outputs": []
  },
  {
   "cell_type": "code",
   "execution_count": 167,
   "metadata": {},
   "source": [
    "from scipy.spatial import ConvexHull\n",
    "f_clus = []\n",
    "b_clus = []\n",
    "\n",
    "fig, ax = plt.subplots(1, 2, figsize=(20, 10))\n",
    "\n",
    "for clu_idx in set(f_l):\n",
    "    f_clu = X_dd[filtr_f][f_l==clu_idx]\n",
    "    ax[0].scatter(f_clu[:, 0], f_clu[:, 1])\n",
    "    if clu_idx != -1:\n",
    "        f_hull = ConvexHull(f_clu) \n",
    "        ax[0].plot(f_clu[f_hull.vertices, 0], f_clu[f_hull.vertices, 1], 'r--')\n",
    "        f_clus.append(f_clu[f_hull.vertices])\n",
    "\n",
    "    \n",
    "for clu_idx in set(b_l):\n",
    "    b_clu = X_dd[filtr_b][b_l==clu_idx]\n",
    "    ax[1].scatter(b_clu[:, 0], b_clu[:, 1])\n",
    "    if clu_idx != -1:\n",
    "        b_hull = ConvexHull(b_clu)\n",
    "        ax[1].plot(b_clu[b_hull.vertices, 0], b_clu[b_hull.vertices, 1], 'r--')\n",
    "        b_clus.append(b_clu[b_hull.vertices])\n",
    "    \n",
    "plt.show()"
   ],
   "outputs": []
  },
  {
   "cell_type": "code",
   "execution_count": 168,
   "metadata": {},
   "source": [
    "from utils.hull_iou import calculate_group_iou\n",
    "print(calculate_group_iou(f_clus, b_clus))\n",
    "print(len(f_clus), len(b_clus))\n",
    "print(len(X_dd[filtr_f]), len(X_dd[filtr_b]))\n",
    "# f_clu[f_hull.vertices]"
   ],
   "outputs": []
  },
  {
   "cell_type": "markdown",
   "metadata": {},
   "source": [
    "### ID 17"
   ]
  },
  {
   "cell_type": "code",
   "execution_count": 169,
   "metadata": {},
   "source": [
    "fig, ax = plt.subplots(1, 2, figsize=(21, 10))\n",
    "\n",
    "filtr_b = filtrs_bank[16]\n",
    "filtr_f = filtrs_full[16]\n",
    "\n",
    "ax[0].scatter(X_dd[filtr_f, 0], X_dd[filtr_f, 1], color='blue', s=5)\n",
    "ax[0].scatter(X_dd[filtr_b, 0], X_dd[filtr_b, 1], color='red', s=5)\n",
    "\n",
    "print(X_dd[filtr_f].shape)\n",
    "\n",
    "for x, color in zip(X_dd[filtr_b], colormap(numpy.linspace(0, 1,len(X_dd[filtr_b])))):\n",
    "    ax[1].scatter(x[0], x[1], color=color, s=5)\n",
    "\n",
    "sc = ax[1].scatter(X_dd[filtr_b, 0], X_dd[filtr_b, 1],\n",
    "                   c=colormap(numpy.linspace(0, 1, len(X_dd[filtr_b]))),\n",
    "                   cmap=colormap, s=5)\n",
    "cbar = fig.colorbar(sc, ax=ax[1], orientation='vertical', fraction=0.02, pad=0.001)\n",
    "cbar.set_label('Time')\n",
    " \n",
    "ax[0].set_xlabel('t-SNE1')\n",
    "ax[0].set_ylabel('t-SNE2')\n",
    "for i in range(2):\n",
    "    # ax[i].set_xlim(-5, 20)\n",
    "    # ax[i].set_ylim(-5, 20)\n",
    "    ax[i].legend()\n",
    "\n",
    "plt.title(\"t-SNE of feature bank\")\n",
    "plt.show()"
   ],
   "outputs": []
  },
  {
   "cell_type": "markdown",
   "metadata": {},
   "source": [
    "#### 计算凸包"
   ]
  },
  {
   "cell_type": "code",
   "execution_count": 170,
   "metadata": {},
   "source": [
    "# 聚类\n",
    "from sklearn.cluster import KMeans, OPTICS, HDBSCAN, DBSCAN\n",
    "from sklearn.cluster import OPTICS\n",
    "from sklearn.cluster import SpectralClustering\n",
    "\n",
    "cluster1 = DBSCAN()\n",
    "cluster2 = DBSCAN(eps=1.5)\n",
    "f_l = cluster1.fit_predict(X_dd[filtr_f])\n",
    "b_l = cluster2.fit_predict(X_dd[filtr_b])\n",
    "\n",
    "clus = pd.concat([pd.DataFrame(set(f_l)), pd.DataFrame(set(b_l))], axis=1)\n",
    "clus.T\n"
   ],
   "outputs": []
  },
  {
   "cell_type": "code",
   "execution_count": 172,
   "metadata": {},
   "source": [
    "from scipy.spatial import ConvexHull\n",
    "f_clus = []\n",
    "b_clus = []\n",
    "\n",
    "fig, ax = plt.subplots(1, 2, figsize=(20, 10))\n",
    "\n",
    "for clu_idx in set(f_l):\n",
    "    f_clu = X_dd[filtr_f][f_l==clu_idx]\n",
    "    ax[0].scatter(f_clu[:, 0], f_clu[:, 1])\n",
    "    if clu_idx != -1:\n",
    "        f_hull = ConvexHull(f_clu) \n",
    "        ax[0].plot(f_clu[f_hull.vertices, 0], f_clu[f_hull.vertices, 1], 'r--')\n",
    "        f_clus.append(f_clu[f_hull.vertices])\n",
    "\n",
    "    \n",
    "for clu_idx in set(b_l):\n",
    "    b_clu = X_dd[filtr_b][b_l==clu_idx]\n",
    "    ax[1].scatter(b_clu[:, 0], b_clu[:, 1])\n",
    "    if clu_idx != -1:\n",
    "        b_hull = ConvexHull(b_clu)\n",
    "        ax[1].plot(b_clu[b_hull.vertices, 0], b_clu[b_hull.vertices, 1], 'r--')\n",
    "        b_clus.append(b_clu[b_hull.vertices])\n",
    "    \n",
    "plt.show()"
   ],
   "outputs": []
  },
  {
   "cell_type": "code",
   "execution_count": 173,
   "metadata": {},
   "source": [
    "from utils.hull_iou import calculate_group_iou\n",
    "print(calculate_group_iou(f_clus, b_clus))\n",
    "print(len(f_clus), len(b_clus))\n",
    "print(len(X_dd[filtr_f]), len(X_dd[filtr_b]))\n",
    "# f_clu[f_hull.vertices]"
   ],
   "outputs": []
  },
  {
   "cell_type": "markdown",
   "metadata": {},
   "source": [
    "### ID 18"
   ]
  },
  {
   "cell_type": "code",
   "execution_count": 174,
   "metadata": {},
   "source": [
    "fig, ax = plt.subplots(1, 2, figsize=(21, 10))\n",
    "\n",
    "filtr_b = filtrs_bank[17]\n",
    "filtr_f = filtrs_full[17]\n",
    "\n",
    "ax[0].scatter(X_dd[filtr_f, 0], X_dd[filtr_f, 1], color='blue', s=5)\n",
    "ax[0].scatter(X_dd[filtr_b, 0], X_dd[filtr_b, 1], color='red', s=5)\n",
    "\n",
    "print(X_dd[filtr_f].shape)\n",
    "\n",
    "for x, color in zip(X_dd[filtr_b], colormap(numpy.linspace(0, 1,len(X_dd[filtr_b])))):\n",
    "    ax[1].scatter(x[0], x[1], color=color, s=5)\n",
    "\n",
    "sc = ax[1].scatter(X_dd[filtr_b, 0], X_dd[filtr_b, 1],\n",
    "                   c=colormap(numpy.linspace(0, 1, len(X_dd[filtr_b]))),\n",
    "                   cmap=colormap, s=5)\n",
    "cbar = fig.colorbar(sc, ax=ax[1], orientation='vertical', fraction=0.02, pad=0.001)\n",
    "cbar.set_label('Time')\n",
    " \n",
    "ax[0].set_xlabel('t-SNE1')\n",
    "ax[0].set_ylabel('t-SNE2')\n",
    "for i in range(2):\n",
    "    # ax[i].set_xlim(-5, 20)\n",
    "    # ax[i].set_ylim(-5, 20)\n",
    "    ax[i].legend()\n",
    "\n",
    "plt.title(\"t-SNE of feature bank\")\n",
    "plt.show()"
   ],
   "outputs": []
  },
  {
   "cell_type": "markdown",
   "metadata": {},
   "source": [
    "#### 计算凸包"
   ]
  },
  {
   "cell_type": "code",
   "execution_count": 175,
   "metadata": {},
   "source": [
    "# 聚类\n",
    "from sklearn.cluster import KMeans, OPTICS, HDBSCAN, DBSCAN\n",
    "from sklearn.cluster import OPTICS\n",
    "from sklearn.cluster import SpectralClustering\n",
    "\n",
    "cluster1 = DBSCAN()\n",
    "cluster2 = DBSCAN(eps=1.5)\n",
    "f_l = cluster1.fit_predict(X_dd[filtr_f])\n",
    "b_l = cluster2.fit_predict(X_dd[filtr_b])\n",
    "\n",
    "clus = pd.concat([pd.DataFrame(set(f_l)), pd.DataFrame(set(b_l))], axis=1)\n",
    "clus.T\n"
   ],
   "outputs": []
  },
  {
   "cell_type": "code",
   "execution_count": 177,
   "metadata": {},
   "source": [
    "from scipy.spatial import ConvexHull\n",
    "f_clus = []\n",
    "b_clus = []\n",
    "\n",
    "fig, ax = plt.subplots(1, 2, figsize=(20, 10))\n",
    "\n",
    "for clu_idx in set(f_l):\n",
    "    f_clu = X_dd[filtr_f][f_l==clu_idx]\n",
    "    ax[0].scatter(f_clu[:, 0], f_clu[:, 1])\n",
    "    if clu_idx != -1:\n",
    "        f_hull = ConvexHull(f_clu) \n",
    "        ax[0].plot(f_clu[f_hull.vertices, 0], f_clu[f_hull.vertices, 1], 'r--')\n",
    "        f_clus.append(f_clu[f_hull.vertices])\n",
    "\n",
    "    \n",
    "for clu_idx in set(b_l):\n",
    "    b_clu = X_dd[filtr_b][b_l==clu_idx]\n",
    "    ax[1].scatter(b_clu[:, 0], b_clu[:, 1])\n",
    "    if clu_idx != -1:\n",
    "        b_hull = ConvexHull(b_clu)\n",
    "        ax[1].plot(b_clu[b_hull.vertices, 0], b_clu[b_hull.vertices, 1], 'r--')\n",
    "        b_clus.append(b_clu[b_hull.vertices])\n",
    "    \n",
    "plt.show()"
   ],
   "outputs": []
  },
  {
   "cell_type": "code",
   "execution_count": 178,
   "metadata": {},
   "source": [
    "from utils.hull_iou import calculate_group_iou\n",
    "print(calculate_group_iou(f_clus, b_clus))\n",
    "print(len(f_clus), len(b_clus))\n",
    "print(len(X_dd[filtr_f]), len(X_dd[filtr_b]))\n",
    "# f_clu[f_hull.vertices]"
   ],
   "outputs": []
  },
  {
   "cell_type": "markdown",
   "metadata": {},
   "source": [
    "### ID 19"
   ]
  },
  {
   "cell_type": "code",
   "execution_count": 179,
   "metadata": {},
   "source": [
    "fig, ax = plt.subplots(1, 2, figsize=(21, 10))\n",
    "\n",
    "filtr_b = filtrs_bank[18]\n",
    "filtr_f = filtrs_full[18]\n",
    "\n",
    "ax[0].scatter(X_dd[filtr_f, 0], X_dd[filtr_f, 1], color='blue', s=5)\n",
    "ax[0].scatter(X_dd[filtr_b, 0], X_dd[filtr_b, 1], color='red', s=5)\n",
    "\n",
    "print(X_dd[filtr_f].shape)\n",
    "\n",
    "for x, color in zip(X_dd[filtr_b], colormap(numpy.linspace(0, 1,len(X_dd[filtr_b])))):\n",
    "    ax[1].scatter(x[0], x[1], color=color, s=5)\n",
    "\n",
    "sc = ax[1].scatter(X_dd[filtr_b, 0], X_dd[filtr_b, 1],\n",
    "                   c=colormap(numpy.linspace(0, 1, len(X_dd[filtr_b]))),\n",
    "                   cmap=colormap, s=5)\n",
    "cbar = fig.colorbar(sc, ax=ax[1], orientation='vertical', fraction=0.02, pad=0.001)\n",
    "cbar.set_label('Time')\n",
    " \n",
    "ax[0].set_xlabel('t-SNE1')\n",
    "ax[0].set_ylabel('t-SNE2')\n",
    "for i in range(2):\n",
    "    # ax[i].set_xlim(-5, 20)\n",
    "    # ax[i].set_ylim(-5, 20)\n",
    "    ax[i].legend()\n",
    "\n",
    "plt.title(\"t-SNE of feature bank\")\n",
    "plt.show()"
   ],
   "outputs": []
  },
  {
   "cell_type": "markdown",
   "metadata": {},
   "source": [
    "#### 计算凸包"
   ]
  },
  {
   "cell_type": "code",
   "execution_count": 180,
   "metadata": {},
   "source": [
    "# 聚类\n",
    "from sklearn.cluster import KMeans, OPTICS, HDBSCAN, DBSCAN\n",
    "from sklearn.cluster import OPTICS\n",
    "from sklearn.cluster import SpectralClustering\n",
    "\n",
    "cluster1 = DBSCAN()\n",
    "cluster2 = DBSCAN(eps=1.5)\n",
    "f_l = cluster1.fit_predict(X_dd[filtr_f])\n",
    "b_l = cluster2.fit_predict(X_dd[filtr_b])\n",
    "\n",
    "clus = pd.concat([pd.DataFrame(set(f_l)), pd.DataFrame(set(b_l))], axis=1)\n",
    "clus.T\n"
   ],
   "outputs": []
  },
  {
   "cell_type": "code",
   "execution_count": 181,
   "metadata": {},
   "source": [
    "from scipy.spatial import ConvexHull\n",
    "f_clus = []\n",
    "b_clus = []\n",
    "\n",
    "fig, ax = plt.subplots(1, 2, figsize=(20, 10))\n",
    "\n",
    "for clu_idx in set(f_l):\n",
    "    f_clu = X_dd[filtr_f][f_l==clu_idx]\n",
    "    ax[0].scatter(f_clu[:, 0], f_clu[:, 1])\n",
    "    if clu_idx != -1:\n",
    "        f_hull = ConvexHull(f_clu) \n",
    "        ax[0].plot(f_clu[f_hull.vertices, 0], f_clu[f_hull.vertices, 1], 'r--')\n",
    "        f_clus.append(f_clu[f_hull.vertices])\n",
    "\n",
    "    \n",
    "for clu_idx in set(b_l):\n",
    "    b_clu = X_dd[filtr_b][b_l==clu_idx]\n",
    "    ax[1].scatter(b_clu[:, 0], b_clu[:, 1])\n",
    "    if clu_idx != -1:\n",
    "        b_hull = ConvexHull(b_clu)\n",
    "        ax[1].plot(b_clu[b_hull.vertices, 0], b_clu[b_hull.vertices, 1], 'r--')\n",
    "        b_clus.append(b_clu[b_hull.vertices])\n",
    "    \n",
    "plt.show()"
   ],
   "outputs": []
  },
  {
   "cell_type": "code",
   "execution_count": 182,
   "metadata": {},
   "source": [
    "from utils.hull_iou import calculate_group_iou\n",
    "print(calculate_group_iou(f_clus, b_clus))\n",
    "print(len(f_clus), len(b_clus))\n",
    "print(len(X_dd[filtr_f]), len(X_dd[filtr_b]))\n",
    "# f_clu[f_hull.vertices]"
   ],
   "outputs": []
  },
  {
   "cell_type": "markdown",
   "metadata": {},
   "source": [
    "### ID 20"
   ]
  },
  {
   "cell_type": "code",
   "execution_count": 183,
   "metadata": {},
   "source": [
    "fig, ax = plt.subplots(1, 2, figsize=(21, 10))\n",
    "\n",
    "filtr_b = filtrs_bank[19]\n",
    "filtr_f = filtrs_full[19]\n",
    "\n",
    "ax[0].scatter(X_dd[filtr_f, 0], X_dd[filtr_f, 1], color='blue', s=5)\n",
    "ax[0].scatter(X_dd[filtr_b, 0], X_dd[filtr_b, 1], color='red', s=5)\n",
    "\n",
    "print(X_dd[filtr_f].shape)\n",
    "\n",
    "for x, color in zip(X_dd[filtr_b], colormap(numpy.linspace(0, 1,len(X_dd[filtr_b])))):\n",
    "    ax[1].scatter(x[0], x[1], color=color, s=5)\n",
    "\n",
    "sc = ax[1].scatter(X_dd[filtr_b, 0], X_dd[filtr_b, 1],\n",
    "                   c=colormap(numpy.linspace(0, 1, len(X_dd[filtr_b]))),\n",
    "                   cmap=colormap, s=5)\n",
    "cbar = fig.colorbar(sc, ax=ax[1], orientation='vertical', fraction=0.02, pad=0.001)\n",
    "cbar.set_label('Time')\n",
    " \n",
    "ax[0].set_xlabel('t-SNE1')\n",
    "ax[0].set_ylabel('t-SNE2')\n",
    "for i in range(2):\n",
    "    # ax[i].set_xlim(-5, 20)\n",
    "    # ax[i].set_ylim(-5, 20)\n",
    "    ax[i].legend()\n",
    "\n",
    "plt.title(\"t-SNE of feature bank\")\n",
    "plt.show()"
   ],
   "outputs": []
  },
  {
   "cell_type": "markdown",
   "metadata": {},
   "source": [
    "#### 计算凸包"
   ]
  },
  {
   "cell_type": "code",
   "execution_count": 184,
   "metadata": {},
   "source": [
    "# 聚类\n",
    "from sklearn.cluster import KMeans, OPTICS, HDBSCAN, DBSCAN\n",
    "from sklearn.cluster import OPTICS\n",
    "from sklearn.cluster import SpectralClustering\n",
    "\n",
    "cluster1 = DBSCAN()\n",
    "cluster2 = DBSCAN(eps=1.5)\n",
    "f_l = cluster1.fit_predict(X_dd[filtr_f])\n",
    "b_l = cluster2.fit_predict(X_dd[filtr_b])\n",
    "\n",
    "clus = pd.concat([pd.DataFrame(set(f_l)), pd.DataFrame(set(b_l))], axis=1)\n",
    "clus.T\n"
   ],
   "outputs": []
  },
  {
   "cell_type": "code",
   "execution_count": 185,
   "metadata": {},
   "source": [
    "from scipy.spatial import ConvexHull\n",
    "f_clus = []\n",
    "b_clus = []\n",
    "\n",
    "fig, ax = plt.subplots(1, 2, figsize=(20, 10))\n",
    "\n",
    "for clu_idx in set(f_l):\n",
    "    f_clu = X_dd[filtr_f][f_l==clu_idx]\n",
    "    ax[0].scatter(f_clu[:, 0], f_clu[:, 1])\n",
    "    if clu_idx != -1:\n",
    "        f_hull = ConvexHull(f_clu) \n",
    "        ax[0].plot(f_clu[f_hull.vertices, 0], f_clu[f_hull.vertices, 1], 'r--')\n",
    "        f_clus.append(f_clu[f_hull.vertices])\n",
    "\n",
    "    \n",
    "for clu_idx in set(b_l):\n",
    "    b_clu = X_dd[filtr_b][b_l==clu_idx]\n",
    "    ax[1].scatter(b_clu[:, 0], b_clu[:, 1])\n",
    "    if clu_idx != -1:\n",
    "        b_hull = ConvexHull(b_clu)\n",
    "        ax[1].plot(b_clu[b_hull.vertices, 0], b_clu[b_hull.vertices, 1], 'r--')\n",
    "        b_clus.append(b_clu[b_hull.vertices])\n",
    "    \n",
    "plt.show()"
   ],
   "outputs": []
  },
  {
   "cell_type": "code",
   "execution_count": 186,
   "metadata": {},
   "source": [
    "from utils.hull_iou import calculate_group_iou\n",
    "print(calculate_group_iou(f_clus, b_clus))\n",
    "print(len(f_clus), len(b_clus))\n",
    "print(len(X_dd[filtr_f]), len(X_dd[filtr_b]))\n",
    "# f_clu[f_hull.vertices]"
   ],
   "outputs": []
  }
 ],
 "metadata": {
  "kernelspec": {
   "display_name": "venv",
   "language": "python",
   "name": "python3"
  },
  "language_info": {
   "codemirror_mode": {
    "name": "ipython",
    "version": 3
   },
   "file_extension": ".py",
   "mimetype": "text/x-python",
   "name": "python",
   "nbconvert_exporter": "python",
   "pygments_lexer": "ipython3",
   "version": "3.9.18"
  }
 },
 "nbformat": 4,
 "nbformat_minor": 2
}
