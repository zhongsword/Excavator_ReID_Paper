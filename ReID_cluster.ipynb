{
 "cells": [
  {
   "cell_type": "markdown",
   "metadata": {},
   "source": [
    "## 读取数据"
   ]
  },
  {
   "cell_type": "code",
   "execution_count": 1,
   "metadata": {
    "ExecuteTime": {
     "end_time": "2024-05-29T08:29:47.927778Z",
     "start_time": "2024-05-29T08:29:47.711931Z"
    }
   },
   "outputs": [],
   "source": [
    "from data_visable.data_utils.dataLoader import Datasets\n",
    "import numpy as np\n",
    "import pandas as pd\n",
    "\n",
    "datasets = Datasets(\n",
    "    \"/home/zlj/Excavator_ReID/Trained_ReID_features/1716362426.0804555_bank.npy\")\n",
    "bank_x = datasets.data\n",
    "bank_y = datasets.target\n",
    "\n",
    "data_show = np.concatenate((bank_x, bank_y.reshape(-1, 1)), axis=1)\n",
    "data_show = pd.DataFrame(data_show)\n",
    "data_show\n",
    "track_res = [(i, sum(bank_y==i)) for i in set(bank_y)]\n",
    "sorted_res = sorted(track_res, key=lambda x: x[1], reverse=True)\n",
    "seleced_samlple = [i[0] for i in sorted_res[:4]]"
   ]
  },
  {
   "cell_type": "code",
   "execution_count": 2,
   "metadata": {},
   "outputs": [
    {
     "data": {
      "text/html": [
       "<div>\n",
       "<style scoped>\n",
       "    .dataframe tbody tr th:only-of-type {\n",
       "        vertical-align: middle;\n",
       "    }\n",
       "\n",
       "    .dataframe tbody tr th {\n",
       "        vertical-align: top;\n",
       "    }\n",
       "\n",
       "    .dataframe thead th {\n",
       "        text-align: right;\n",
       "    }\n",
       "</style>\n",
       "<table border=\"1\" class=\"dataframe\">\n",
       "  <thead>\n",
       "    <tr style=\"text-align: right;\">\n",
       "      <th></th>\n",
       "      <th>0</th>\n",
       "      <th>1</th>\n",
       "      <th>2</th>\n",
       "      <th>3</th>\n",
       "      <th>4</th>\n",
       "      <th>5</th>\n",
       "      <th>6</th>\n",
       "      <th>7</th>\n",
       "      <th>8</th>\n",
       "      <th>9</th>\n",
       "      <th>10</th>\n",
       "      <th>11</th>\n",
       "      <th>12</th>\n",
       "      <th>13</th>\n",
       "      <th>14</th>\n",
       "      <th>15</th>\n",
       "      <th>16</th>\n",
       "      <th>17</th>\n",
       "      <th>18</th>\n",
       "      <th>19</th>\n",
       "    </tr>\n",
       "  </thead>\n",
       "  <tbody>\n",
       "    <tr>\n",
       "      <th>0</th>\n",
       "      <td>2.0</td>\n",
       "      <td>1.0</td>\n",
       "      <td>3.0</td>\n",
       "      <td>11.0</td>\n",
       "      <td>NaN</td>\n",
       "      <td>NaN</td>\n",
       "      <td>NaN</td>\n",
       "      <td>NaN</td>\n",
       "      <td>NaN</td>\n",
       "      <td>NaN</td>\n",
       "      <td>NaN</td>\n",
       "      <td>NaN</td>\n",
       "      <td>NaN</td>\n",
       "      <td>NaN</td>\n",
       "      <td>NaN</td>\n",
       "      <td>NaN</td>\n",
       "      <td>NaN</td>\n",
       "      <td>NaN</td>\n",
       "      <td>NaN</td>\n",
       "      <td>NaN</td>\n",
       "    </tr>\n",
       "    <tr>\n",
       "      <th>0</th>\n",
       "      <td>2.0</td>\n",
       "      <td>1.0</td>\n",
       "      <td>3.0</td>\n",
       "      <td>11.0</td>\n",
       "      <td>18.0</td>\n",
       "      <td>9.0</td>\n",
       "      <td>20.0</td>\n",
       "      <td>23.0</td>\n",
       "      <td>24.0</td>\n",
       "      <td>15.0</td>\n",
       "      <td>14.0</td>\n",
       "      <td>25.0</td>\n",
       "      <td>10.0</td>\n",
       "      <td>17.0</td>\n",
       "      <td>8.0</td>\n",
       "      <td>21.0</td>\n",
       "      <td>16.0</td>\n",
       "      <td>7.0</td>\n",
       "      <td>4.0</td>\n",
       "      <td>5.0</td>\n",
       "    </tr>\n",
       "    <tr>\n",
       "      <th>1</th>\n",
       "      <td>903.0</td>\n",
       "      <td>829.0</td>\n",
       "      <td>432.0</td>\n",
       "      <td>117.0</td>\n",
       "      <td>104.0</td>\n",
       "      <td>64.0</td>\n",
       "      <td>53.0</td>\n",
       "      <td>36.0</td>\n",
       "      <td>34.0</td>\n",
       "      <td>33.0</td>\n",
       "      <td>25.0</td>\n",
       "      <td>21.0</td>\n",
       "      <td>19.0</td>\n",
       "      <td>18.0</td>\n",
       "      <td>14.0</td>\n",
       "      <td>13.0</td>\n",
       "      <td>8.0</td>\n",
       "      <td>4.0</td>\n",
       "      <td>3.0</td>\n",
       "      <td>3.0</td>\n",
       "    </tr>\n",
       "  </tbody>\n",
       "</table>\n",
       "</div>"
      ],
      "text/plain": [
       "      0      1      2      3      4     5     6     7     8     9     10  \\\n",
       "0    2.0    1.0    3.0   11.0    NaN   NaN   NaN   NaN   NaN   NaN   NaN   \n",
       "0    2.0    1.0    3.0   11.0   18.0   9.0  20.0  23.0  24.0  15.0  14.0   \n",
       "1  903.0  829.0  432.0  117.0  104.0  64.0  53.0  36.0  34.0  33.0  25.0   \n",
       "\n",
       "     11    12    13    14    15    16   17   18   19  \n",
       "0   NaN   NaN   NaN   NaN   NaN   NaN  NaN  NaN  NaN  \n",
       "0  25.0  10.0  17.0   8.0  21.0  16.0  7.0  4.0  5.0  \n",
       "1  21.0  19.0  18.0  14.0  13.0   8.0  4.0  3.0  3.0  "
      ]
     },
     "execution_count": 2,
     "metadata": {},
     "output_type": "execute_result"
    }
   ],
   "source": [
    "pd.concat([pd.DataFrame(seleced_samlple), pd.DataFrame(sorted_res)], axis=1).T"
   ]
  },
  {
   "cell_type": "code",
   "execution_count": 8,
   "metadata": {},
   "outputs": [
    {
     "name": "stderr",
     "output_type": "stream",
     "text": [
      "Processing:  36%|███▌      | 14224/39346 [00:12<00:21, 1186.01frame/s]"
     ]
    }
   ],
   "source": [
    "from data_visable.data_utils.match import UnreasonMatch\n",
    "with UnreasonMatch(\"121241-123840.mp4\", \"results.txt\") as um:\n",
    "    um.rus()\n",
    "    cnfli_graph = um.unreason\n",
    "\n",
    "print(cnfli_graph)"
   ]
  },
  {
   "cell_type": "code",
   "execution_count": 7,
   "metadata": {
    "ExecuteTime": {
     "end_time": "2024-05-29T10:39:27.024953Z",
     "start_time": "2024-05-29T10:39:26.806883Z"
    }
   },
   "outputs": [
    {
     "name": "stdout",
     "output_type": "stream",
     "text": [
      "18.0->11.0 \t 104\n",
      "9.0->11.0 \t 64\n",
      "20.0->11.0 \t 53\n",
      "23.0->11.0 \t 36\n",
      "24.0->11.0 \t 34\n",
      "15.0->1.0 \t 33\n",
      "14.0->3.0 \t 25\n",
      "25.0->11.0 \t 21\n",
      "10.0->11.0 \t 19\n",
      "17.0->1.0 \t 18\n",
      "8.0->3.0 \t 14\n",
      "21.0->11.0 \t 13\n",
      "16.0->3.0 \t 8\n",
      "7.0->3.0 \t 4\n",
      "4.0->3.0 \t 3\n",
      "5.0->3.0 \t 3\n"
     ]
    }
   ],
   "source": [
    "from data_visable.data_utils.match import track_distance\n",
    "\n",
    "for i in sorted_res[4:]:\n",
    "    match_range = []\n",
    "    for j in seleced_samlple:\n",
    "        if j in cnfli_graph[i[0]]:\n",
    "            continue\n",
    "        match_range.append(j)\n",
    "    \n",
    "    match_res = [track_distance(bank_x[bank_y==i[0]], bank_x[bank_y==j]) for j in match_range]\n",
    "    print(f'{i[0]}->{seleced_samlple[match_res.index(min(match_res))]} \\t {i[1]}')"
   ]
  },
  {
   "cell_type": "code",
   "execution_count": null,
   "metadata": {},
   "outputs": [],
   "source": []
  }
 ],
 "metadata": {
  "kernelspec": {
   "display_name": "venv",
   "language": "python",
   "name": "python3"
  },
  "language_info": {
   "codemirror_mode": {
    "name": "ipython",
    "version": 3
   },
   "file_extension": ".py",
   "mimetype": "text/x-python",
   "name": "python",
   "nbconvert_exporter": "python",
   "pygments_lexer": "ipython3",
   "version": "3.9.18"
  }
 },
 "nbformat": 4,
 "nbformat_minor": 2
}
