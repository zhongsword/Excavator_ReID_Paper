{
 "cells": [
  {
   "cell_type": "markdown",
   "id": "f0f878d8",
   "metadata": {},
   "source": [
    "## 表数据 "
   ]
  },
  {
   "cell_type": "markdown",
   "id": "e33c7aea",
   "metadata": {},
   "source": [
    "### fi3"
   ]
  },
  {
   "cell_type": "code",
   "execution_count": 2,
   "id": "f1d4358118f8f9af",
   "metadata": {
    "collapsed": false
   },
   "outputs": [
    {
     "data": {
      "text/html": [
       "<div>\n",
       "<style scoped>\n",
       "    .dataframe tbody tr th:only-of-type {\n",
       "        vertical-align: middle;\n",
       "    }\n",
       "\n",
       "    .dataframe tbody tr th {\n",
       "        vertical-align: top;\n",
       "    }\n",
       "\n",
       "    .dataframe thead th {\n",
       "        text-align: right;\n",
       "    }\n",
       "</style>\n",
       "<table border=\"1\" class=\"dataframe\">\n",
       "  <thead>\n",
       "    <tr style=\"text-align: right;\">\n",
       "      <th></th>\n",
       "      <th>mota</th>\n",
       "      <th>idf1</th>\n",
       "      <th>num_switches</th>\n",
       "    </tr>\n",
       "  </thead>\n",
       "  <tbody>\n",
       "    <tr>\n",
       "      <th>0</th>\n",
       "      <td>0.999547</td>\n",
       "      <td>0.864359</td>\n",
       "      <td>18</td>\n",
       "    </tr>\n",
       "    <tr>\n",
       "      <th>0</th>\n",
       "      <td>0.996853</td>\n",
       "      <td>0.766662</td>\n",
       "      <td>45</td>\n",
       "    </tr>\n",
       "  </tbody>\n",
       "</table>\n",
       "</div>"
      ],
      "text/plain": [
       "       mota      idf1  num_switches\n",
       "0  0.999547  0.864359            18\n",
       "0  0.996853  0.766662            45"
      ]
     },
     "execution_count": 2,
     "metadata": {},
     "output_type": "execute_result"
    }
   ],
   "source": [
    "import motmetrics as mm\n",
    "import pandas as pd \n",
    "import numpy as np \n",
    "\n",
    "test = mm.io.loadtxt(\"./DataSource/Track/my_fi3/results.txt\")\n",
    "ori = mm.io.loadtxt(\"./DataSource/Track/ori_fi3/results.txt\")[:len(test)]\n",
    "gt = mm.io.loadtxt('/home/zlj/Excavator_ReID/data_visable/DataSource/Track/my_fi3/gt.txt')\n",
    "acc1 = mm.utils.compare_to_groundtruth(gt, test, distth=0.5)\n",
    "acc2 = mm.utils.compare_to_groundtruth(gt, ori, distth=0.5)\n",
    "mh = mm.metrics.create()\n",
    "\n",
    "metrics = mm.metrics.motchallenge_metrics\n",
    "metrics\n",
    "summary1 = mh.compute(acc1, metrics=['mota','idf1','num_switches'])\n",
    "summary2 = mh.compute(acc2, metrics=['mota','idf1','num_switches'])\n",
    "summary = pd.concat([summary1, summary2], axis=0)\n",
    "summary"
   ]
  },
  {
   "cell_type": "markdown",
   "id": "c93794fe",
   "metadata": {},
   "source": [
    "### fi9"
   ]
  },
  {
   "cell_type": "code",
   "execution_count": 3,
   "id": "5272571c",
   "metadata": {},
   "outputs": [
    {
     "data": {
      "text/html": [
       "<div>\n",
       "<style scoped>\n",
       "    .dataframe tbody tr th:only-of-type {\n",
       "        vertical-align: middle;\n",
       "    }\n",
       "\n",
       "    .dataframe tbody tr th {\n",
       "        vertical-align: top;\n",
       "    }\n",
       "\n",
       "    .dataframe thead th {\n",
       "        text-align: right;\n",
       "    }\n",
       "</style>\n",
       "<table border=\"1\" class=\"dataframe\">\n",
       "  <thead>\n",
       "    <tr style=\"text-align: right;\">\n",
       "      <th></th>\n",
       "      <th>mota</th>\n",
       "      <th>idf1</th>\n",
       "      <th>num_switches</th>\n",
       "    </tr>\n",
       "  </thead>\n",
       "  <tbody>\n",
       "    <tr>\n",
       "      <th>0</th>\n",
       "      <td>0.999398</td>\n",
       "      <td>0.880648</td>\n",
       "      <td>8</td>\n",
       "    </tr>\n",
       "    <tr>\n",
       "      <th>0</th>\n",
       "      <td>0.956099</td>\n",
       "      <td>0.646461</td>\n",
       "      <td>131</td>\n",
       "    </tr>\n",
       "  </tbody>\n",
       "</table>\n",
       "</div>"
      ],
      "text/plain": [
       "       mota      idf1  num_switches\n",
       "0  0.999398  0.880648             8\n",
       "0  0.956099  0.646461           131"
      ]
     },
     "execution_count": 3,
     "metadata": {},
     "output_type": "execute_result"
    }
   ],
   "source": [
    "test = mm.io.loadtxt(\"./DataSource/Track/my_fi9/results.txt\")\n",
    "ori = mm.io.loadtxt(\"./DataSource/Track/ori_fi9/results.txt\")[:len(test)]\n",
    "gt = mm.io.loadtxt('/home/zlj/Excavator_ReID/data_visable/DataSource/Track/my_fi9/gt.txt')\n",
    "acc1 = mm.utils.compare_to_groundtruth(gt, test, distth=0.5)\n",
    "acc2 = mm.utils.compare_to_groundtruth(gt, ori, distth=0.5)\n",
    "mh = mm.metrics.create()\n",
    "\n",
    "metrics = mm.metrics.motchallenge_metrics\n",
    "metrics\n",
    "summary1 = mh.compute(acc1, metrics=['mota','idf1','num_switches'])\n",
    "summary2 = mh.compute(acc2, metrics=['mota','idf1','num_switches'])\n",
    "summary = pd.concat([summary1, summary2], axis=0)\n",
    "summary"
   ]
  },
  {
   "cell_type": "markdown",
   "id": "77a83e60",
   "metadata": {},
   "source": [
    "### fi15"
   ]
  },
  {
   "cell_type": "code",
   "execution_count": 4,
   "id": "3460e064",
   "metadata": {},
   "outputs": [
    {
     "data": {
      "text/html": [
       "<div>\n",
       "<style scoped>\n",
       "    .dataframe tbody tr th:only-of-type {\n",
       "        vertical-align: middle;\n",
       "    }\n",
       "\n",
       "    .dataframe tbody tr th {\n",
       "        vertical-align: top;\n",
       "    }\n",
       "\n",
       "    .dataframe thead th {\n",
       "        text-align: right;\n",
       "    }\n",
       "</style>\n",
       "<table border=\"1\" class=\"dataframe\">\n",
       "  <thead>\n",
       "    <tr style=\"text-align: right;\">\n",
       "      <th></th>\n",
       "      <th>mota</th>\n",
       "      <th>idf1</th>\n",
       "      <th>num_switches</th>\n",
       "    </tr>\n",
       "  </thead>\n",
       "  <tbody>\n",
       "    <tr>\n",
       "      <th>0</th>\n",
       "      <td>0.998874</td>\n",
       "      <td>0.780988</td>\n",
       "      <td>9</td>\n",
       "    </tr>\n",
       "    <tr>\n",
       "      <th>0</th>\n",
       "      <td>0.897686</td>\n",
       "      <td>0.714822</td>\n",
       "      <td>186</td>\n",
       "    </tr>\n",
       "  </tbody>\n",
       "</table>\n",
       "</div>"
      ],
      "text/plain": [
       "       mota      idf1  num_switches\n",
       "0  0.998874  0.780988             9\n",
       "0  0.897686  0.714822           186"
      ]
     },
     "execution_count": 4,
     "metadata": {},
     "output_type": "execute_result"
    }
   ],
   "source": [
    "test = mm.io.loadtxt(\"./DataSource/Track/my_fi15/results.txt\")\n",
    "ori = mm.io.loadtxt(\"./DataSource/Track/ori_fi15/results.txt\")[:len(test)]\n",
    "gt = mm.io.loadtxt('/home/zlj/Excavator_ReID/data_visable/DataSource/Track/my_fi15/gt.txt')\n",
    "acc1 = mm.utils.compare_to_groundtruth(gt, test, distth=0.5)\n",
    "acc2 = mm.utils.compare_to_groundtruth(gt, ori, distth=0.5)\n",
    "mh = mm.metrics.create()\n",
    "\n",
    "metrics = mm.metrics.motchallenge_metrics\n",
    "metrics\n",
    "summary1 = mh.compute(acc1, metrics=['mota','idf1','num_switches'])\n",
    "summary2 = mh.compute(acc2, metrics=['mota','idf1','num_switches'])\n",
    "summary = pd.concat([summary1, summary2], axis=0)\n",
    "summary"
   ]
  },
  {
   "cell_type": "markdown",
   "id": "2c839dac",
   "metadata": {},
   "source": [
    "### fi30"
   ]
  },
  {
   "cell_type": "code",
   "execution_count": 5,
   "id": "69e3fc64",
   "metadata": {},
   "outputs": [
    {
     "data": {
      "text/html": [
       "<div>\n",
       "<style scoped>\n",
       "    .dataframe tbody tr th:only-of-type {\n",
       "        vertical-align: middle;\n",
       "    }\n",
       "\n",
       "    .dataframe tbody tr th {\n",
       "        vertical-align: top;\n",
       "    }\n",
       "\n",
       "    .dataframe thead th {\n",
       "        text-align: right;\n",
       "    }\n",
       "</style>\n",
       "<table border=\"1\" class=\"dataframe\">\n",
       "  <thead>\n",
       "    <tr style=\"text-align: right;\">\n",
       "      <th></th>\n",
       "      <th>mota</th>\n",
       "      <th>idf1</th>\n",
       "      <th>num_switches</th>\n",
       "    </tr>\n",
       "  </thead>\n",
       "  <tbody>\n",
       "    <tr>\n",
       "      <th>0</th>\n",
       "      <td>0.987667</td>\n",
       "      <td>0.914406</td>\n",
       "      <td>50</td>\n",
       "    </tr>\n",
       "    <tr>\n",
       "      <th>0</th>\n",
       "      <td>0.873952</td>\n",
       "      <td>0.705476</td>\n",
       "      <td>145</td>\n",
       "    </tr>\n",
       "  </tbody>\n",
       "</table>\n",
       "</div>"
      ],
      "text/plain": [
       "       mota      idf1  num_switches\n",
       "0  0.987667  0.914406            50\n",
       "0  0.873952  0.705476           145"
      ]
     },
     "execution_count": 5,
     "metadata": {},
     "output_type": "execute_result"
    }
   ],
   "source": [
    "test = mm.io.loadtxt(\"./DataSource/Track/my_fi30/results.txt\")\n",
    "ori = mm.io.loadtxt(\"./DataSource/Track/ori_fi30/results.txt\")[:len(test)]\n",
    "gt = mm.io.loadtxt('/home/zlj/Excavator_ReID/data_visable/DataSource/Track/my_fi30/gt.txt')\n",
    "acc1 = mm.utils.compare_to_groundtruth(gt, test, distth=0.5)\n",
    "acc2 = mm.utils.compare_to_groundtruth(gt, ori, distth=0.5)\n",
    "mh = mm.metrics.create()\n",
    "\n",
    "metrics = mm.metrics.motchallenge_metrics\n",
    "metrics\n",
    "summary1 = mh.compute(acc1, metrics=['mota','idf1','num_switches'])\n",
    "summary2 = mh.compute(acc2, metrics=['mota','idf1','num_switches'])\n",
    "summary = pd.concat([summary1, summary2], axis=0)\n",
    "summary"
   ]
  },
  {
   "cell_type": "markdown",
   "id": "2e62dda6",
   "metadata": {},
   "source": [
    "## 绘制跟踪和GT图"
   ]
  },
  {
   "cell_type": "markdown",
   "id": "c0228d3a",
   "metadata": {},
   "source": [
    "### fi3"
   ]
  },
  {
   "cell_type": "code",
   "execution_count": 13,
   "id": "866fe6e5",
   "metadata": {},
   "outputs": [
    {
     "name": "stderr",
     "output_type": "stream",
     "text": [
      "/tmp/ipykernel_3107591/2640915170.py:7: MatplotlibDeprecationWarning: The get_cmap function was deprecated in Matplotlib 3.7 and will be removed two minor releases later. Use ``matplotlib.colormaps[name]`` or ``matplotlib.colormaps.get_cmap(obj)`` instead.\n",
      "  cmap = get_cmap(\"hsv\")\n"
     ]
    },
    {
     "data": {
      "text/plain": [
       "<module 'matplotlib.pyplot' from '/home/zlj/Excavator_ReID/venv/lib/python3.9/site-packages/matplotlib/pyplot.py'>"
      ]
     },
     "execution_count": 13,
     "metadata": {},
     "output_type": "execute_result"
    },
    {
     "data": {
      "image/png": "[encoded data removed]",
      "text/plain": [
       "<Figure size 2000x900 with 3 Axes>"
      ]
     },
     "metadata": {},
     "output_type": "display_data"
    }
   ],
   "source": [
    "import matplotlib.pyplot as plt\n",
    "from matplotlib.cm import get_cmap\n",
    "test_array = np.loadtxt('./DataSource/Track/my_fi3/results.txt', delimiter=',')\n",
    "ori_array = np.loadtxt('./DataSource/Track/ori_fi3/results.txt', delimiter=',')[:len(test_array)]\n",
    "gt_array = np.loadtxt('./DataSource/Track/my_fi3/gt.txt', delimiter=',')\n",
    "\n",
    "cmap = get_cmap(\"hsv\")\n",
    "fig, ax = plt.subplots(3,1, figsize=(20, 9))\n",
    "colors = cmap(np.linspace(0, 0.8, 4))\n",
    "for id_, color in zip([1.0, 2.0, 3.0, 4.0], colors):\n",
    "    filtr = gt_array[:, 1] == id_\n",
    "    ax[2].scatter(gt_array[filtr, 0], gt_array[filtr, 1], marker='|', color=color, s=5)\n",
    "\n",
    "for id_, color in zip([[1.0], \\\n",
    "                        [2.0], \\\n",
    "                        [3.0, 17.0, 15.0],\\\n",
    "                        [4.0, 5.0, 7.0, 8.0, 9.0, 10.0, 11.0, 13.0, 14.0, 16.0,18.0, 20.0, 21.0, 22.0, 23.0, 24.0, 25.0]], colors):\n",
    "    filtr = np.isin(test_array[:, 1], id_)\n",
    "    ax[0].scatter(test_array[filtr, 0], test_array[filtr, 1], marker='|', color=color, s=5)\n",
    "\n",
    "for id_, color in zip([[1.0, 14., 15., 17., 26.,30.],\n",
    "                        [2.0, 11.],\n",
    "                        [3., 12., 22., 24.],\n",
    "                        [4., 5., 7., 8., 9., 10., 16., 20., 21., 23., 28., 29., 31., 32., 33., 34.]], colors):\n",
    "    filtr = np.isin(ori_array[:, 1], id_)\n",
    "    ax[1].scatter(ori_array[filtr, 0], ori_array[filtr, 1], marker='|', color=color, s=5)\n",
    "\n",
    "for i in range(3): \n",
    "    ax[i].set_xlabel(\"time\")\n",
    "    ax[i].set_ylabel(\"id\")\n",
    "    ax[i].set_ylim(0, 35)\n",
    "plt"
   ]
  },
  {
   "cell_type": "markdown",
   "id": "0e7da0f3",
   "metadata": {},
   "source": [
    "### fi9"
   ]
  },
  {
   "cell_type": "code",
   "execution_count": 20,
   "id": "0a907f20",
   "metadata": {},
   "outputs": [
    {
     "name": "stderr",
     "output_type": "stream",
     "text": [
      "/tmp/ipykernel_3107591/1067832801.py:7: MatplotlibDeprecationWarning: The get_cmap function was deprecated in Matplotlib 3.7 and will be removed two minor releases later. Use ``matplotlib.colormaps[name]`` or ``matplotlib.colormaps.get_cmap(obj)`` instead.\n",
      "  cmap = get_cmap(\"hsv\")\n"
     ]
    },
    {
     "data": {
      "text/plain": [
       "<module 'matplotlib.pyplot' from '/home/zlj/Excavator_ReID/venv/lib/python3.9/site-packages/matplotlib/pyplot.py'>"
      ]
     },
     "execution_count": 20,
     "metadata": {},
     "output_type": "execute_result"
    },
    {
     "data": {
      "image/png": "[encoded data removed]",
      "text/plain": [
       "<Figure size 2000x900 with 3 Axes>"
      ]
     },
     "metadata": {},
     "output_type": "display_data"
    }
   ],
   "source": [
    "import matplotlib.pyplot as plt\n",
    "from matplotlib.cm import get_cmap\n",
    "test_array = np.loadtxt('./DataSource/Track/my_fi9/results.txt', delimiter=',')\n",
    "ori_array = np.loadtxt('./DataSource/Track/ori_fi9/results.txt', delimiter=',')\n",
    "gt_array = np.loadtxt('./DataSource/Track/my_fi9/gt.txt', delimiter=',')\n",
    "\n",
    "cmap = get_cmap(\"hsv\")\n",
    "fig, ax = plt.subplots(3,1, figsize=(20, 9))\n",
    "colors = cmap(np.linspace(0, 0.8, 4))\n",
    "# 有ID混淆\n",
    "for id_, color in zip([1.0, 2.0, 3.0, 4.0], colors):\n",
    "    gt_range = gt_array[:12100]\n",
    "    filtr = gt_range[:, 1] == id_\n",
    "    ax[2].scatter(gt_range[filtr, 0], gt_range[filtr, 1], marker='|', color=color, s=5)\n",
    "\n",
    "for id_, color in zip([1.0, 2.0, 4.0, 3.0], colors):\n",
    "    gt_range = gt_array[12100:]\n",
    "    if id_ == 3.0:\n",
    "        filtr = gt_range[:, 1] == id_\n",
    "        gt_range[filtr, 1] = 4.\n",
    "        ax[2].scatter(gt_range[filtr, 0], gt_range[filtr, 1], marker='|', color=color, s=5)\n",
    "    filtr = gt_range[:, 1] == id_\n",
    "    ax[2].scatter(gt_range[filtr, 0], gt_range[filtr, 1], marker='|', color=color, s=5)\n",
    "\n",
    "### \n",
    "for id_, color in zip([[1.0], \\\n",
    "                        [2.0], \\\n",
    "                        [3.0, 11.0, 12.0, 14.],\\\n",
    "                        [4.0, 5.0, 7.0, 8.0, 10.0]], colors):\n",
    "    test_range = test_array[:12100]\n",
    "    filtr = np.isin(test_range[:, 1], id_)\n",
    "    ax[0].scatter(test_range[filtr, 0], test_range[filtr, 1], marker='|', color=color, s=5)\n",
    "    \n",
    "for id_, color in zip([[1.0], \\\n",
    "                        [2.0], \\\n",
    "                        [3.0, 11.0, 12.0],\\\n",
    "                        [4.0, 5.0, 7.0, 8.0, 10.0, 14.]], colors):\n",
    "    test_range = test_array[12100:]\n",
    "    filtr = np.isin(test_range[:, 1], id_)\n",
    "    ax[0].scatter(test_range[filtr, 0], test_range[filtr, 1], marker='|', color=color, s=5)\n",
    "\n",
    "\n",
    "## 需要分段绘制 有id混淆\n",
    "for id_, color in zip([[1.0],\n",
    "                        [2.0,6],\n",
    "                        [3.],\n",
    "                        [4., 5.]], colors):\n",
    "    ori_range = ori_array[:4108] \n",
    "    filtr = np.isin(ori_range[:,1], id_)\n",
    "    ax[1].scatter(ori_range[filtr, 0], ori_range[filtr, 1], marker='|', color=color, s=5)\n",
    "\n",
    "for id_, color in zip([[1.0, 6., 8.],\n",
    "                        [2.0, ],\n",
    "                        [3.],\n",
    "                        [4., 7]], colors):\n",
    "    ori_range = ori_array[4108: 4622] \n",
    "    filtr = np.isin(ori_range[:,1], id_)\n",
    "    ax[1].scatter(ori_range[filtr, 0], ori_range[filtr, 1], marker='|', color=color, s=5)\n",
    "\n",
    "for id_, color in zip([[1.0, 6.0, 10., 15., 16., 18.],\n",
    "                        [2.0],\n",
    "                        [3., 14., 17.],\n",
    "                        [4., 8.0, 11, 13.]], colors):\n",
    "    ori_range = ori_array[4622: 9284] \n",
    "    filtr = np.isin(ori_range[:,1], id_)\n",
    "    ax[1].scatter(ori_range[filtr, 0], ori_range[filtr, 1], marker='|', color=color, s=5)\n",
    "    \n",
    "for id_, color in zip([[1.0, 16., 18., 13., 20., 21.],\n",
    "                        [2.0],\n",
    "                        [3., 14., 17.],\n",
    "                        [4., 19., 22.]], colors):\n",
    "    ori_range = ori_array[9286: 11386] \n",
    "    filtr = np.isin(ori_range[:,1], id_)\n",
    "    ax[1].scatter(ori_range[filtr, 0], ori_range[filtr, 1], marker='|', color=color, s=5)\n",
    "    \n",
    "for id_, color in zip([[1.0, 20., 19, 24, 27, 26],\n",
    "                        [2.0],\n",
    "                        [3., 14., 17.],\n",
    "                        [4., 21, 22., 25., 28]], colors):\n",
    "    ori_range = ori_array[11386:] \n",
    "    filtr = np.isin(ori_range[:,1], id_)\n",
    "    ax[1].scatter(ori_range[filtr, 0], ori_range[filtr, 1], marker='|', color=color, s=5)\n",
    "    \n",
    "\n",
    "\n",
    "for i in range(3): \n",
    "    ax[i].set_xlabel(\"time\")\n",
    "    ax[i].set_ylabel(\"id\")\n",
    "    ax[i].set_ylim(0, 28)\n",
    "    ax[i].set_xlim(0, 38000)\n",
    "plt"
   ]
  }
 ],
 "metadata": {
  "kernelspec": {
   "display_name": "Python 3",
   "language": "python",
   "name": "python3"
  },
  "language_info": {
   "codemirror_mode": {
    "name": "ipython",
    "version": 3
   },
   "file_extension": ".py",
   "mimetype": "text/x-python",
   "name": "python",
   "nbconvert_exporter": "python",
   "pygments_lexer": "ipython3",
   "version": "3.9.18"
  }
 },
 "nbformat": 4,
 "nbformat_minor": 5
}
